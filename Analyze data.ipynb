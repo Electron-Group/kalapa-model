{
 "cells": [
  {
   "cell_type": "code",
   "execution_count": 18,
   "metadata": {},
   "outputs": [],
   "source": [
    "import sweetviz as sv\n",
    "import pandas as pd\n",
    "import numpy as np\n",
    "import datetime as datetime\n",
    "import os, sys, re"
   ]
  },
  {
   "cell_type": "code",
   "execution_count": 3,
   "metadata": {},
   "outputs": [
    {
     "name": "stdout",
     "output_type": "stream",
     "text": [
      "Train:  (53030, 195) | Test:  (20381, 194)\n",
      "--------------------------------------------------\n"
     ]
    }
   ],
   "source": [
    "INPUT_DIR = \"data\"\n",
    "train_df = pd.read_csv(os.path.join(INPUT_DIR, \"train.csv\"), dtype=str)\n",
    "test_df = pd.read_csv(os.path.join(INPUT_DIR, \"test.csv\"), dtype=str)\n",
    "print(\"Train: \", train_df.shape, \"| Test: \", test_df.shape)\n",
    "print(\"-\"*50)"
   ]
  },
  {
   "cell_type": "markdown",
   "metadata": {},
   "source": [
    "### Analyze"
   ]
  },
  {
   "cell_type": "code",
   "execution_count": 4,
   "metadata": {},
   "outputs": [
    {
     "name": "stderr",
     "output_type": "stream",
     "text": [
      ":FEATURES DONE:                    |                     | [  0%]   00:15  -> (00:00 left)\n",
      ":PAIRWISE DONE:                    |█████████████████████| [100%]   00:00  -> (00:00 left)\n"
     ]
    },
    {
     "name": "stdout",
     "output_type": "stream",
     "text": [
      "Creating Associations graph... DONE!\n"
     ]
    }
   ],
   "source": [
    "advert_report = sv.analyze(train_df[: 9])\n",
    "advert_report.show_html(\"Advertising.html\")"
   ]
  },
  {
   "cell_type": "markdown",
   "metadata": {},
   "source": [
    "#### Tổng số thuộc tính là số và không phải là số"
   ]
  },
  {
   "cell_type": "code",
   "execution_count": 5,
   "metadata": {},
   "outputs": [
    {
     "name": "stdout",
     "output_type": "stream",
     "text": [
      "Tổng giá trị thuộc kiểu số là  0 \n",
      "Không phải giá trị số là  195\n"
     ]
    }
   ],
   "source": [
    "count = [1 for i in train_df.columns if train_df[i].dtypes== \"int64\" or train_df[i].dtypes==\"float64\"]\n",
    "print(\"Tổng giá trị thuộc kiểu số là \", sum(count), \"\\nKhông phải giá trị số là \", len(train_df.columns)-sum(count))"
   ]
  },
  {
   "cell_type": "code",
   "execution_count": 17,
   "metadata": {},
   "outputs": [
    {
     "data": {
      "text/html": [
       "<div>\n",
       "<style scoped>\n",
       "    .dataframe tbody tr th:only-of-type {\n",
       "        vertical-align: middle;\n",
       "    }\n",
       "\n",
       "    .dataframe tbody tr th {\n",
       "        vertical-align: top;\n",
       "    }\n",
       "\n",
       "    .dataframe thead th {\n",
       "        text-align: right;\n",
       "    }\n",
       "</style>\n",
       "<table border=\"1\" class=\"dataframe\">\n",
       "  <thead>\n",
       "    <tr style=\"text-align: right;\">\n",
       "      <th></th>\n",
       "      <th>id</th>\n",
       "      <th>label</th>\n",
       "      <th>Field_1</th>\n",
       "      <th>Field_2</th>\n",
       "      <th>Field_3</th>\n",
       "      <th>Field_4</th>\n",
       "      <th>Field_5</th>\n",
       "      <th>Field_6</th>\n",
       "      <th>Field_7</th>\n",
       "      <th>Field_8</th>\n",
       "      <th>...</th>\n",
       "      <th>partner5_H</th>\n",
       "      <th>partner5_K</th>\n",
       "      <th>partner5_L</th>\n",
       "      <th>brief</th>\n",
       "      <th>num_of_phone</th>\n",
       "      <th>Field_78</th>\n",
       "      <th>Field_79</th>\n",
       "      <th>Field_80</th>\n",
       "      <th>Field_81</th>\n",
       "      <th>Field_82</th>\n",
       "    </tr>\n",
       "  </thead>\n",
       "  <tbody>\n",
       "    <tr>\n",
       "      <th>count</th>\n",
       "      <td>53030</td>\n",
       "      <td>53030</td>\n",
       "      <td>25564</td>\n",
       "      <td>25564</td>\n",
       "      <td>25564</td>\n",
       "      <td>25564</td>\n",
       "      <td>25546</td>\n",
       "      <td>25546</td>\n",
       "      <td>25564</td>\n",
       "      <td>25564</td>\n",
       "      <td>...</td>\n",
       "      <td>48283</td>\n",
       "      <td>48283</td>\n",
       "      <td>48283</td>\n",
       "      <td>52778</td>\n",
       "      <td>50518</td>\n",
       "      <td>36397</td>\n",
       "      <td>27782</td>\n",
       "      <td>36320</td>\n",
       "      <td>35981</td>\n",
       "      <td>53030</td>\n",
       "    </tr>\n",
       "    <tr>\n",
       "      <th>unique</th>\n",
       "      <td>53030</td>\n",
       "      <td>2</td>\n",
       "      <td>21506</td>\n",
       "      <td>18667</td>\n",
       "      <td>2</td>\n",
       "      <td>2</td>\n",
       "      <td>1901</td>\n",
       "      <td>1870</td>\n",
       "      <td>1199</td>\n",
       "      <td>1392</td>\n",
       "      <td>...</td>\n",
       "      <td>1</td>\n",
       "      <td>1</td>\n",
       "      <td>1</td>\n",
       "      <td>20</td>\n",
       "      <td>5</td>\n",
       "      <td>427</td>\n",
       "      <td>11054</td>\n",
       "      <td>2839</td>\n",
       "      <td>421</td>\n",
       "      <td>4</td>\n",
       "    </tr>\n",
       "    <tr>\n",
       "      <th>top</th>\n",
       "      <td>11756</td>\n",
       "      <td>0</td>\n",
       "      <td>2017-03-24T20:10:37.62Z</td>\n",
       "      <td>2017-03-24T20:10:37.62Z</td>\n",
       "      <td>2</td>\n",
       "      <td>T1</td>\n",
       "      <td>2018-12-27</td>\n",
       "      <td>2018-12-27</td>\n",
       "      <td>2019-01-01</td>\n",
       "      <td>2019-12-31</td>\n",
       "      <td>...</td>\n",
       "      <td>0.0</td>\n",
       "      <td>0.0</td>\n",
       "      <td>0.0</td>\n",
       "      <td>0</td>\n",
       "      <td>1.0</td>\n",
       "      <td>0.0</td>\n",
       "      <td>0.0</td>\n",
       "      <td>0.0</td>\n",
       "      <td>0.0</td>\n",
       "      <td>1</td>\n",
       "    </tr>\n",
       "    <tr>\n",
       "      <th>freq</th>\n",
       "      <td>1</td>\n",
       "      <td>36234</td>\n",
       "      <td>264</td>\n",
       "      <td>261</td>\n",
       "      <td>13771</td>\n",
       "      <td>13878</td>\n",
       "      <td>1102</td>\n",
       "      <td>1198</td>\n",
       "      <td>8814</td>\n",
       "      <td>10547</td>\n",
       "      <td>...</td>\n",
       "      <td>48283</td>\n",
       "      <td>48283</td>\n",
       "      <td>48283</td>\n",
       "      <td>13704</td>\n",
       "      <td>46317</td>\n",
       "      <td>3367</td>\n",
       "      <td>981</td>\n",
       "      <td>2619</td>\n",
       "      <td>13533</td>\n",
       "      <td>36251</td>\n",
       "    </tr>\n",
       "  </tbody>\n",
       "</table>\n",
       "<p>4 rows × 195 columns</p>\n",
       "</div>"
      ],
      "text/plain": [
       "           id  label                  Field_1                  Field_2  \\\n",
       "count   53030  53030                    25564                    25564   \n",
       "unique  53030      2                    21506                    18667   \n",
       "top     11756      0  2017-03-24T20:10:37.62Z  2017-03-24T20:10:37.62Z   \n",
       "freq        1  36234                      264                      261   \n",
       "\n",
       "       Field_3 Field_4     Field_5     Field_6     Field_7     Field_8  ...  \\\n",
       "count    25564   25564       25546       25546       25564       25564  ...   \n",
       "unique       2       2        1901        1870        1199        1392  ...   \n",
       "top          2      T1  2018-12-27  2018-12-27  2019-01-01  2019-12-31  ...   \n",
       "freq     13771   13878        1102        1198        8814       10547  ...   \n",
       "\n",
       "       partner5_H partner5_K partner5_L  brief num_of_phone Field_78 Field_79  \\\n",
       "count       48283      48283      48283  52778        50518    36397    27782   \n",
       "unique          1          1          1     20            5      427    11054   \n",
       "top           0.0        0.0        0.0      0          1.0      0.0      0.0   \n",
       "freq        48283      48283      48283  13704        46317     3367      981   \n",
       "\n",
       "       Field_80 Field_81 Field_82  \n",
       "count     36320    35981    53030  \n",
       "unique     2839      421        4  \n",
       "top         0.0      0.0        1  \n",
       "freq       2619    13533    36251  \n",
       "\n",
       "[4 rows x 195 columns]"
      ]
     },
     "execution_count": 17,
     "metadata": {},
     "output_type": "execute_result"
    }
   ],
   "source": [
    "train_df.describe()"
   ]
  },
  {
   "cell_type": "markdown",
   "metadata": {},
   "source": [
    "### Hàm biểu diễn giá trị từng cột"
   ]
  },
  {
   "cell_type": "code",
   "execution_count": null,
   "metadata": {},
   "outputs": [],
   "source": []
  }
 ],
 "metadata": {
  "kernelspec": {
   "display_name": "Python 3",
   "language": "python",
   "name": "python3"
  },
  "language_info": {
   "codemirror_mode": {
    "name": "ipython",
    "version": 3
   },
   "file_extension": ".py",
   "mimetype": "text/x-python",
   "name": "python",
   "nbconvert_exporter": "python",
   "pygments_lexer": "ipython3",
   "version": "3.7.6"
  }
 },
 "nbformat": 4,
 "nbformat_minor": 4
}
