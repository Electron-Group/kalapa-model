{
 "cells": [
  {
   "cell_type": "code",
   "execution_count": 1,
   "metadata": {},
   "outputs": [],
   "source": [
    "import pandas as pd\n",
    "import numpy as np\n",
    "import matplotlib.pyplot as plt\n",
    "import seaborn as sns\n",
    "from datetime import datetime\n",
    "import re"
   ]
  },
  {
   "cell_type": "code",
   "execution_count": 2,
   "metadata": {},
   "outputs": [
    {
     "name": "stderr",
     "output_type": "stream",
     "text": [
      "C:\\Users\\Ut Luom\\anaconda3\\lib\\site-packages\\IPython\\core\\interactiveshell.py:3063: DtypeWarning: Columns (35,43) have mixed types.Specify dtype option on import or set low_memory=False.\n",
      "  interactivity=interactivity, compiler=compiler, result=result)\n",
      "C:\\Users\\Ut Luom\\anaconda3\\lib\\site-packages\\IPython\\core\\interactiveshell.py:3063: DtypeWarning: Columns (34,42) have mixed types.Specify dtype option on import or set low_memory=False.\n",
      "  interactivity=interactivity, compiler=compiler, result=result)\n"
     ]
    }
   ],
   "source": [
    "df_train = pd.read_csv(\"data/train.csv\")\n",
    "df_test = pd.read_csv(\"data/test.csv\")"
   ]
  },
  {
   "cell_type": "code",
   "execution_count": 3,
   "metadata": {
    "scrolled": true
   },
   "outputs": [
    {
     "data": {
      "text/html": [
       "<div>\n",
       "<style scoped>\n",
       "    .dataframe tbody tr th:only-of-type {\n",
       "        vertical-align: middle;\n",
       "    }\n",
       "\n",
       "    .dataframe tbody tr th {\n",
       "        vertical-align: top;\n",
       "    }\n",
       "\n",
       "    .dataframe thead th {\n",
       "        text-align: right;\n",
       "    }\n",
       "</style>\n",
       "<table border=\"1\" class=\"dataframe\">\n",
       "  <thead>\n",
       "    <tr style=\"text-align: right;\">\n",
       "      <th></th>\n",
       "      <th>id</th>\n",
       "      <th>label</th>\n",
       "      <th>Field_1</th>\n",
       "      <th>Field_2</th>\n",
       "      <th>Field_3</th>\n",
       "      <th>Field_4</th>\n",
       "      <th>Field_5</th>\n",
       "      <th>Field_6</th>\n",
       "      <th>Field_7</th>\n",
       "      <th>Field_8</th>\n",
       "      <th>...</th>\n",
       "      <th>partner5_H</th>\n",
       "      <th>partner5_K</th>\n",
       "      <th>partner5_L</th>\n",
       "      <th>brief</th>\n",
       "      <th>num_of_phone</th>\n",
       "      <th>Field_78</th>\n",
       "      <th>Field_79</th>\n",
       "      <th>Field_80</th>\n",
       "      <th>Field_81</th>\n",
       "      <th>Field_82</th>\n",
       "    </tr>\n",
       "  </thead>\n",
       "  <tbody>\n",
       "    <tr>\n",
       "      <th>0</th>\n",
       "      <td>0</td>\n",
       "      <td>1</td>\n",
       "      <td>2019-07-24T03:39:02.854Z</td>\n",
       "      <td>2019-07-31T20:10:02Z</td>\n",
       "      <td>1.0</td>\n",
       "      <td>GH</td>\n",
       "      <td>2018-12-27</td>\n",
       "      <td>2018-12-27</td>\n",
       "      <td>2019-01-01</td>\n",
       "      <td>2019-07-31</td>\n",
       "      <td>...</td>\n",
       "      <td>0.0</td>\n",
       "      <td>0.0</td>\n",
       "      <td>0.0</td>\n",
       "      <td>cb1</td>\n",
       "      <td>1.0</td>\n",
       "      <td>NaN</td>\n",
       "      <td>NaN</td>\n",
       "      <td>NaN</td>\n",
       "      <td>NaN</td>\n",
       "      <td>1</td>\n",
       "    </tr>\n",
       "    <tr>\n",
       "      <th>1</th>\n",
       "      <td>1</td>\n",
       "      <td>0</td>\n",
       "      <td>NaN</td>\n",
       "      <td>NaN</td>\n",
       "      <td>NaN</td>\n",
       "      <td>NaN</td>\n",
       "      <td>NaN</td>\n",
       "      <td>NaN</td>\n",
       "      <td>NaN</td>\n",
       "      <td>NaN</td>\n",
       "      <td>...</td>\n",
       "      <td>0.0</td>\n",
       "      <td>0.0</td>\n",
       "      <td>0.0</td>\n",
       "      <td>4</td>\n",
       "      <td>1.0</td>\n",
       "      <td>NaN</td>\n",
       "      <td>NaN</td>\n",
       "      <td>NaN</td>\n",
       "      <td>NaN</td>\n",
       "      <td>1</td>\n",
       "    </tr>\n",
       "    <tr>\n",
       "      <th>2</th>\n",
       "      <td>2</td>\n",
       "      <td>0</td>\n",
       "      <td>2019-01-17T07:15:26.367Z</td>\n",
       "      <td>2019-01-17T07:17:45Z</td>\n",
       "      <td>2.0</td>\n",
       "      <td>T1</td>\n",
       "      <td>2019-01-17</td>\n",
       "      <td>2019-01-17</td>\n",
       "      <td>2019-01-01</td>\n",
       "      <td>2019-12-31</td>\n",
       "      <td>...</td>\n",
       "      <td>0.0</td>\n",
       "      <td>0.0</td>\n",
       "      <td>0.0</td>\n",
       "      <td>1</td>\n",
       "      <td>1.0</td>\n",
       "      <td>33.0</td>\n",
       "      <td>10.769445</td>\n",
       "      <td>6.466667</td>\n",
       "      <td>0.0</td>\n",
       "      <td>2</td>\n",
       "    </tr>\n",
       "    <tr>\n",
       "      <th>3</th>\n",
       "      <td>3</td>\n",
       "      <td>0</td>\n",
       "      <td>NaN</td>\n",
       "      <td>NaN</td>\n",
       "      <td>NaN</td>\n",
       "      <td>NaN</td>\n",
       "      <td>NaN</td>\n",
       "      <td>NaN</td>\n",
       "      <td>NaN</td>\n",
       "      <td>NaN</td>\n",
       "      <td>...</td>\n",
       "      <td>NaN</td>\n",
       "      <td>NaN</td>\n",
       "      <td>NaN</td>\n",
       "      <td>1</td>\n",
       "      <td>1.0</td>\n",
       "      <td>33.0</td>\n",
       "      <td>10.769445</td>\n",
       "      <td>6.466667</td>\n",
       "      <td>0.0</td>\n",
       "      <td>3</td>\n",
       "    </tr>\n",
       "    <tr>\n",
       "      <th>4</th>\n",
       "      <td>4</td>\n",
       "      <td>1</td>\n",
       "      <td>NaN</td>\n",
       "      <td>NaN</td>\n",
       "      <td>NaN</td>\n",
       "      <td>NaN</td>\n",
       "      <td>NaN</td>\n",
       "      <td>NaN</td>\n",
       "      <td>NaN</td>\n",
       "      <td>NaN</td>\n",
       "      <td>...</td>\n",
       "      <td>NaN</td>\n",
       "      <td>NaN</td>\n",
       "      <td>NaN</td>\n",
       "      <td>1</td>\n",
       "      <td>1.0</td>\n",
       "      <td>33.0</td>\n",
       "      <td>10.769445</td>\n",
       "      <td>6.466667</td>\n",
       "      <td>0.0</td>\n",
       "      <td>3</td>\n",
       "    </tr>\n",
       "  </tbody>\n",
       "</table>\n",
       "<p>5 rows × 195 columns</p>\n",
       "</div>"
      ],
      "text/plain": [
       "   id  label                   Field_1               Field_2  Field_3 Field_4  \\\n",
       "0   0      1  2019-07-24T03:39:02.854Z  2019-07-31T20:10:02Z      1.0      GH   \n",
       "1   1      0                       NaN                   NaN      NaN     NaN   \n",
       "2   2      0  2019-01-17T07:15:26.367Z  2019-01-17T07:17:45Z      2.0      T1   \n",
       "3   3      0                       NaN                   NaN      NaN     NaN   \n",
       "4   4      1                       NaN                   NaN      NaN     NaN   \n",
       "\n",
       "      Field_5     Field_6     Field_7     Field_8  ... partner5_H  partner5_K  \\\n",
       "0  2018-12-27  2018-12-27  2019-01-01  2019-07-31  ...        0.0         0.0   \n",
       "1         NaN         NaN         NaN         NaN  ...        0.0         0.0   \n",
       "2  2019-01-17  2019-01-17  2019-01-01  2019-12-31  ...        0.0         0.0   \n",
       "3         NaN         NaN         NaN         NaN  ...        NaN         NaN   \n",
       "4         NaN         NaN         NaN         NaN  ...        NaN         NaN   \n",
       "\n",
       "  partner5_L brief  num_of_phone  Field_78   Field_79  Field_80  Field_81  \\\n",
       "0        0.0   cb1           1.0       NaN        NaN       NaN       NaN   \n",
       "1        0.0     4           1.0       NaN        NaN       NaN       NaN   \n",
       "2        0.0     1           1.0      33.0  10.769445  6.466667       0.0   \n",
       "3        NaN     1           1.0      33.0  10.769445  6.466667       0.0   \n",
       "4        NaN     1           1.0      33.0  10.769445  6.466667       0.0   \n",
       "\n",
       "  Field_82  \n",
       "0        1  \n",
       "1        1  \n",
       "2        2  \n",
       "3        3  \n",
       "4        3  \n",
       "\n",
       "[5 rows x 195 columns]"
      ]
     },
     "execution_count": 3,
     "metadata": {},
     "output_type": "execute_result"
    }
   ],
   "source": [
    "df_train.head()"
   ]
  },
  {
   "cell_type": "code",
   "execution_count": 72,
   "metadata": {},
   "outputs": [],
   "source": [
    "label = df_train['label']"
   ]
  },
  {
   "cell_type": "code",
   "execution_count": 4,
   "metadata": {},
   "outputs": [
    {
     "data": {
      "text/plain": [
       "id              0\n",
       "label           0\n",
       "Field_1     27466\n",
       "Field_2     27466\n",
       "Field_3     27466\n",
       "            ...  \n",
       "Field_78    16633\n",
       "Field_79    25248\n",
       "Field_80    16710\n",
       "Field_81    17049\n",
       "Field_82        0\n",
       "Length: 195, dtype: int64"
      ]
     },
     "execution_count": 4,
     "metadata": {},
     "output_type": "execute_result"
    }
   ],
   "source": [
    "df_train.isnull().sum()"
   ]
  },
  {
   "cell_type": "code",
   "execution_count": 5,
   "metadata": {},
   "outputs": [
    {
     "data": {
      "text/plain": [
       "(53030, 195)"
      ]
     },
     "execution_count": 5,
     "metadata": {},
     "output_type": "execute_result"
    }
   ],
   "source": [
    "df_train.shape"
   ]
  },
  {
   "cell_type": "code",
   "execution_count": 6,
   "metadata": {
    "scrolled": true
   },
   "outputs": [
    {
     "data": {
      "text/plain": [
       "Index(['id', 'label', 'Field_1', 'Field_2', 'Field_3', 'Field_4', 'Field_5',\n",
       "       'Field_6', 'Field_7', 'Field_8',\n",
       "       ...\n",
       "       'partner5_H', 'partner5_K', 'partner5_L', 'brief', 'num_of_phone',\n",
       "       'Field_78', 'Field_79', 'Field_80', 'Field_81', 'Field_82'],\n",
       "      dtype='object', length=195)"
      ]
     },
     "execution_count": 6,
     "metadata": {},
     "output_type": "execute_result"
    }
   ],
   "source": [
    "df_train.columns"
   ]
  },
  {
   "cell_type": "markdown",
   "metadata": {},
   "source": [
    "### Clean Data"
   ]
  },
  {
   "cell_type": "markdown",
   "metadata": {},
   "source": [
    "##### Xử lí số liệu"
   ]
  },
  {
   "cell_type": "markdown",
   "metadata": {},
   "source": [
    "Label"
   ]
  },
  {
   "cell_type": "code",
   "execution_count": 7,
   "metadata": {},
   "outputs": [
    {
     "data": {
      "text/plain": [
       "0    36234\n",
       "1    16796\n",
       "Name: label, dtype: int64"
      ]
     },
     "execution_count": 7,
     "metadata": {},
     "output_type": "execute_result"
    }
   ],
   "source": [
    "df_train[\"label\"].value_counts()"
   ]
  },
  {
   "cell_type": "code",
   "execution_count": 8,
   "metadata": {},
   "outputs": [
    {
     "data": {
      "image/png": "[encoded data removed]",
      "text/plain": [
       "<Figure size 432x288 with 1 Axes>"
      ]
     },
     "metadata": {
      "needs_background": "light"
     },
     "output_type": "display_data"
    }
   ],
   "source": [
    "df_train[\"label\"].astype(int).plot.hist();"
   ]
  },
  {
   "cell_type": "markdown",
   "metadata": {},
   "source": [
    "Nhận xét:\n",
    "    - Mất cân bằng: Có nhiều khoản vay trả đúng hạn hơn so với những khoản vay không được hoàn trả"
   ]
  },
  {
   "cell_type": "markdown",
   "metadata": {},
   "source": [
    "### Xem các giá trị còn thiếu và phần trăm "
   ]
  },
  {
   "cell_type": "markdown",
   "metadata": {},
   "source": [
    "xem theo cột..."
   ]
  },
  {
   "cell_type": "code",
   "execution_count": 9,
   "metadata": {},
   "outputs": [],
   "source": [
    "# Hàm tính tổng các giá trị còn thiếu\n",
    "def missing_values(df):\n",
    "    mis_val = df.isnull().sum() #tổng các giá trị còn thiếu\n",
    "    mis_val_per = 100 * df.isnull().sum()/len(df) #Phần trăm các giá trị còn thiếu\n",
    "    mis_val_table = pd.concat([mis_val, mis_val_per], axis=1) #Tạo thành bảng để thể hiện 2 giá trị trên\n",
    "    mis_val_table_rename = mis_val_table.rename(\n",
    "    columns = {0: \"Thiếu\", 1 : \"Chiếm %\"})\n",
    "    #Sắp xếp bảng theo tỉ lệ phần trăm giảm dần\n",
    "    mis_val_table_rename = mis_val_table_rename[mis_val_table_rename.iloc[:, 1] != 0].sort_values(\"Chiếm %\", ascending=False).round(1)\n",
    "    print(\"Có tất cả \" + str(df.shape[1]) + \" cột.\\n\"\n",
    "          \"Có tất cả \" + str(mis_val_table_rename.shape[0]) + \" cột bị thiếu data\")\n",
    "    return mis_val_table_rename"
   ]
  },
  {
   "cell_type": "code",
   "execution_count": 10,
   "metadata": {},
   "outputs": [
    {
     "name": "stdout",
     "output_type": "stream",
     "text": [
      "Có tất cả 195 cột.\n",
      "Có tất cả 192 cột bị thiếu data\n"
     ]
    },
    {
     "data": {
      "text/html": [
       "<div>\n",
       "<style scoped>\n",
       "    .dataframe tbody tr th:only-of-type {\n",
       "        vertical-align: middle;\n",
       "    }\n",
       "\n",
       "    .dataframe tbody tr th {\n",
       "        vertical-align: top;\n",
       "    }\n",
       "\n",
       "    .dataframe thead th {\n",
       "        text-align: right;\n",
       "    }\n",
       "</style>\n",
       "<table border=\"1\" class=\"dataframe\">\n",
       "  <thead>\n",
       "    <tr style=\"text-align: right;\">\n",
       "      <th></th>\n",
       "      <th>Thiếu</th>\n",
       "      <th>Chiếm %</th>\n",
       "    </tr>\n",
       "  </thead>\n",
       "  <tbody>\n",
       "    <tr>\n",
       "      <th>Field_35</th>\n",
       "      <td>46198</td>\n",
       "      <td>87.1</td>\n",
       "    </tr>\n",
       "    <tr>\n",
       "      <th>Field_12</th>\n",
       "      <td>45650</td>\n",
       "      <td>86.1</td>\n",
       "    </tr>\n",
       "    <tr>\n",
       "      <th>Field_11</th>\n",
       "      <td>45616</td>\n",
       "      <td>86.0</td>\n",
       "    </tr>\n",
       "    <tr>\n",
       "      <th>Field_18</th>\n",
       "      <td>44643</td>\n",
       "      <td>84.2</td>\n",
       "    </tr>\n",
       "    <tr>\n",
       "      <th>maCv</th>\n",
       "      <td>43882</td>\n",
       "      <td>82.7</td>\n",
       "    </tr>\n",
       "    <tr>\n",
       "      <th>homeTownCity</th>\n",
       "      <td>40676</td>\n",
       "      <td>76.7</td>\n",
       "    </tr>\n",
       "    <tr>\n",
       "      <th>homeTownCountry</th>\n",
       "      <td>40676</td>\n",
       "      <td>76.7</td>\n",
       "    </tr>\n",
       "    <tr>\n",
       "      <th>homeTownName</th>\n",
       "      <td>40676</td>\n",
       "      <td>76.7</td>\n",
       "    </tr>\n",
       "    <tr>\n",
       "      <th>homeTownState</th>\n",
       "      <td>40676</td>\n",
       "      <td>76.7</td>\n",
       "    </tr>\n",
       "    <tr>\n",
       "      <th>currentLocationState</th>\n",
       "      <td>39522</td>\n",
       "      <td>74.5</td>\n",
       "    </tr>\n",
       "    <tr>\n",
       "      <th>currentLocationCity</th>\n",
       "      <td>39521</td>\n",
       "      <td>74.5</td>\n",
       "    </tr>\n",
       "    <tr>\n",
       "      <th>currentLocationCountry</th>\n",
       "      <td>39521</td>\n",
       "      <td>74.5</td>\n",
       "    </tr>\n",
       "    <tr>\n",
       "      <th>currentLocationName</th>\n",
       "      <td>39521</td>\n",
       "      <td>74.5</td>\n",
       "    </tr>\n",
       "    <tr>\n",
       "      <th>Field_54</th>\n",
       "      <td>38574</td>\n",
       "      <td>72.7</td>\n",
       "    </tr>\n",
       "    <tr>\n",
       "      <th>Field_15</th>\n",
       "      <td>37322</td>\n",
       "      <td>70.4</td>\n",
       "    </tr>\n",
       "    <tr>\n",
       "      <th>Field_68</th>\n",
       "      <td>33045</td>\n",
       "      <td>62.3</td>\n",
       "    </tr>\n",
       "    <tr>\n",
       "      <th>Field_40</th>\n",
       "      <td>32415</td>\n",
       "      <td>61.1</td>\n",
       "    </tr>\n",
       "    <tr>\n",
       "      <th>Field_74</th>\n",
       "      <td>32372</td>\n",
       "      <td>61.0</td>\n",
       "    </tr>\n",
       "    <tr>\n",
       "      <th>topFriends</th>\n",
       "      <td>32364</td>\n",
       "      <td>61.0</td>\n",
       "    </tr>\n",
       "    <tr>\n",
       "      <th>Field_38</th>\n",
       "      <td>32326</td>\n",
       "      <td>61.0</td>\n",
       "    </tr>\n",
       "  </tbody>\n",
       "</table>\n",
       "</div>"
      ],
      "text/plain": [
       "                        Thiếu  Chiếm %\n",
       "Field_35                46198     87.1\n",
       "Field_12                45650     86.1\n",
       "Field_11                45616     86.0\n",
       "Field_18                44643     84.2\n",
       "maCv                    43882     82.7\n",
       "homeTownCity            40676     76.7\n",
       "homeTownCountry         40676     76.7\n",
       "homeTownName            40676     76.7\n",
       "homeTownState           40676     76.7\n",
       "currentLocationState    39522     74.5\n",
       "currentLocationCity     39521     74.5\n",
       "currentLocationCountry  39521     74.5\n",
       "currentLocationName     39521     74.5\n",
       "Field_54                38574     72.7\n",
       "Field_15                37322     70.4\n",
       "Field_68                33045     62.3\n",
       "Field_40                32415     61.1\n",
       "Field_74                32372     61.0\n",
       "topFriends              32364     61.0\n",
       "Field_38                32326     61.0"
      ]
     },
     "execution_count": 10,
     "metadata": {},
     "output_type": "execute_result"
    }
   ],
   "source": [
    "missing = missing_values(df_train)\n",
    "missing.head(20)"
   ]
  },
  {
   "cell_type": "code",
   "execution_count": 11,
   "metadata": {},
   "outputs": [
    {
     "data": {
      "text/plain": [
       "float64    133\n",
       "object      59\n",
       "int64        3\n",
       "dtype: int64"
      ]
     },
     "execution_count": 11,
     "metadata": {},
     "output_type": "execute_result"
    }
   ],
   "source": [
    "#Số lượng từng loại dữ liệu có trong cột\n",
    "df_train.dtypes.value_counts()"
   ]
  },
  {
   "cell_type": "code",
   "execution_count": 12,
   "metadata": {},
   "outputs": [
    {
     "data": {
      "text/plain": [
       "Field_1                   21506\n",
       "Field_2                   18667\n",
       "Field_4                       2\n",
       "Field_5                    1901\n",
       "Field_6                    1870\n",
       "Field_7                    1199\n",
       "Field_8                    1392\n",
       "Field_9                    1929\n",
       "Field_11                    836\n",
       "Field_12                      7\n",
       "Field_15                   1539\n",
       "Field_18                   6587\n",
       "Field_25                   1613\n",
       "Field_32                   1527\n",
       "Field_33                   1753\n",
       "Field_34                   2635\n",
       "Field_35                    632\n",
       "gioiTinh                      2\n",
       "diaChi                    21057\n",
       "Field_36                     34\n",
       "Field_38                      6\n",
       "Field_40                    541\n",
       "Field_43                   3605\n",
       "Field_44                   9901\n",
       "Field_45                  10957\n",
       "Field_46                  14311\n",
       "Field_47                      5\n",
       "Field_48                  12650\n",
       "Field_49                  12818\n",
       "Field_54                     44\n",
       "Field_55                    220\n",
       "Field_56                   1345\n",
       "Field_61                     35\n",
       "Field_62                      6\n",
       "Field_65                     10\n",
       "Field_66                      8\n",
       "Field_68                  10944\n",
       "maCv                       3589\n",
       "info_social_sex               2\n",
       "data.basic_info.locale       24\n",
       "currentLocationCity         876\n",
       "currentLocationCountry       48\n",
       "currentLocationName        1087\n",
       "currentLocationState        201\n",
       "homeTownCity                886\n",
       "homeTownCountry              38\n",
       "homeTownName               1133\n",
       "homeTownState               148\n",
       "F_startDate                 239\n",
       "F_endDate                   229\n",
       "E_startDate                 237\n",
       "E_endDate                   228\n",
       "C_startDate                 197\n",
       "C_endDate                   190\n",
       "G_startDate                 239\n",
       "G_endDate                   230\n",
       "A_startDate                 399\n",
       "A_endDate                   351\n",
       "brief                        20\n",
       "dtype: int64"
      ]
     },
     "execution_count": 12,
     "metadata": {},
     "output_type": "execute_result"
    }
   ],
   "source": [
    "#Số lượng object(categorical) có trong mỗi cột\n",
    "df_train.select_dtypes(\"object\").apply(pd.Series.nunique, axis=0)"
   ]
  },
  {
   "cell_type": "markdown",
   "metadata": {},
   "source": [
    "#### Bộ train"
   ]
  },
  {
   "cell_type": "markdown",
   "metadata": {},
   "source": [
    "Biến các kiểu categorical ở trên kiểu số học"
   ]
  },
  {
   "cell_type": "code",
   "execution_count": 13,
   "metadata": {},
   "outputs": [
    {
     "name": "stdout",
     "output_type": "stream",
     "text": [
      "Bộ dữ liệu train:  (53030, 195)\n",
      "Bộ dữ liệu test:  (53030, 195)\n"
     ]
    }
   ],
   "source": [
    "train_labels = df_train[\"label\"]\n",
    "# Căn chỉnh dữ liệu trong hai bộ train và test. Giữ lại các cột có trong cả hai cột dữ liệu\n",
    "df_train, df_test = df_train.align(df_train, join=\"inner\", axis=1)\n",
    "# Thêm mục \"label\"\n",
    "df_train[\"label\"] = train_labels\n",
    "\n",
    "print(\"Bộ dữ liệu train: \", df_train.shape)\n",
    "print(\"Bộ dữ liệu test: \", df_test.shape)"
   ]
  },
  {
   "cell_type": "markdown",
   "metadata": {},
   "source": [
    "Hiện tại ở hai bộ dữ liệu đều có những giá trị chung. Tuy nhiên số lượng còn nhiều, cần phải loại bỏ bớt"
   ]
  },
  {
   "cell_type": "markdown",
   "metadata": {},
   "source": [
    "Điền dữ liệu còn thiếu bằng giá trị trung bình của mỗi cột"
   ]
  },
  {
   "cell_type": "code",
   "execution_count": 14,
   "metadata": {},
   "outputs": [],
   "source": [
    "\"Phân loại các cột dữ liệu theo kiểu\"\n",
    "numeric_cols = df_train.select_dtypes(['float', 'int']).columns\n",
    "categoric_cols = df_train.select_dtypes('object').columns\n",
    "train_numeric = df_train[numeric_cols]\n",
    "train_categoric = df_train[categoric_cols]"
   ]
  },
  {
   "cell_type": "code",
   "execution_count": 15,
   "metadata": {},
   "outputs": [
    {
     "data": {
      "text/plain": [
       "59"
      ]
     },
     "execution_count": 15,
     "metadata": {},
     "output_type": "execute_result"
    }
   ],
   "source": [
    "len(train_categoric.columns)"
   ]
  },
  {
   "cell_type": "code",
   "execution_count": 16,
   "metadata": {},
   "outputs": [
    {
     "name": "stderr",
     "output_type": "stream",
     "text": [
      "C:\\Users\\Ut Luom\\anaconda3\\lib\\site-packages\\ipykernel_launcher.py:5: SettingWithCopyWarning: \n",
      "A value is trying to be set on a copy of a slice from a DataFrame.\n",
      "Try using .loc[row_indexer,col_indexer] = value instead\n",
      "\n",
      "See the caveats in the documentation: https://pandas.pydata.org/pandas-docs/stable/user_guide/indexing.html#returning-a-view-versus-a-copy\n",
      "  \"\"\"\n"
     ]
    }
   ],
   "source": [
    "# fill mising cho loại int và float\n",
    "def fill_mean_train(train_numeric):\n",
    "    for col in train_numeric.columns:\n",
    "        mean = train_numeric[col].mean()\n",
    "        train_numeric[col] = train_numeric[col].fillna(mean)\n",
    "    return train_numeric\n",
    "train_mean_imp = fill_mean_train(train_numeric)"
   ]
  },
  {
   "cell_type": "code",
   "execution_count": 17,
   "metadata": {},
   "outputs": [
    {
     "data": {
      "text/plain": [
       "Field_3         0\n",
       "Field_10        0\n",
       "Field_13        0\n",
       "Field_14        0\n",
       "Field_16        0\n",
       "               ..\n",
       "num_of_phone    0\n",
       "Field_78        0\n",
       "Field_79        0\n",
       "Field_80        0\n",
       "Field_81        0\n",
       "Length: 133, dtype: int64"
      ]
     },
     "execution_count": 17,
     "metadata": {},
     "output_type": "execute_result"
    }
   ],
   "source": [
    "train_mean_imp.isnull().sum()"
   ]
  },
  {
   "cell_type": "code",
   "execution_count": 18,
   "metadata": {},
   "outputs": [
    {
     "name": "stderr",
     "output_type": "stream",
     "text": [
      "C:\\Users\\Ut Luom\\anaconda3\\lib\\site-packages\\ipykernel_launcher.py:5: SettingWithCopyWarning: \n",
      "A value is trying to be set on a copy of a slice from a DataFrame.\n",
      "Try using .loc[row_indexer,col_indexer] = value instead\n",
      "\n",
      "See the caveats in the documentation: https://pandas.pydata.org/pandas-docs/stable/user_guide/indexing.html#returning-a-view-versus-a-copy\n",
      "  \"\"\"\n"
     ]
    }
   ],
   "source": [
    "#fill mising cho loại categoric sử dụng MODE\n",
    "def fill_mode_train(train_categoric):\n",
    "    for col in train_categoric.columns:\n",
    "        mode = train_categoric[col].mode().iloc[0]\n",
    "        train_categoric[col] = train_categoric[col].fillna(mode)\n",
    "    return train_categoric\n",
    "train_mode_imp = fill_mode_train(train_categoric)"
   ]
  },
  {
   "cell_type": "code",
   "execution_count": 19,
   "metadata": {},
   "outputs": [
    {
     "data": {
      "text/plain": [
       "Field_1                   0\n",
       "Field_2                   0\n",
       "Field_4                   0\n",
       "Field_5                   0\n",
       "Field_6                   0\n",
       "Field_7                   0\n",
       "Field_8                   0\n",
       "Field_9                   0\n",
       "Field_11                  0\n",
       "Field_12                  0\n",
       "Field_15                  0\n",
       "Field_18                  0\n",
       "Field_25                  0\n",
       "Field_32                  0\n",
       "Field_33                  0\n",
       "Field_34                  0\n",
       "Field_35                  0\n",
       "gioiTinh                  0\n",
       "diaChi                    0\n",
       "Field_36                  0\n",
       "Field_38                  0\n",
       "Field_40                  0\n",
       "Field_43                  0\n",
       "Field_44                  0\n",
       "Field_45                  0\n",
       "Field_46                  0\n",
       "Field_47                  0\n",
       "Field_48                  0\n",
       "Field_49                  0\n",
       "Field_54                  0\n",
       "Field_55                  0\n",
       "Field_56                  0\n",
       "Field_61                  0\n",
       "Field_62                  0\n",
       "Field_65                  0\n",
       "Field_66                  0\n",
       "Field_68                  0\n",
       "maCv                      0\n",
       "info_social_sex           0\n",
       "data.basic_info.locale    0\n",
       "currentLocationCity       0\n",
       "currentLocationCountry    0\n",
       "currentLocationName       0\n",
       "currentLocationState      0\n",
       "homeTownCity              0\n",
       "homeTownCountry           0\n",
       "homeTownName              0\n",
       "homeTownState             0\n",
       "F_startDate               0\n",
       "F_endDate                 0\n",
       "E_startDate               0\n",
       "E_endDate                 0\n",
       "C_startDate               0\n",
       "C_endDate                 0\n",
       "G_startDate               0\n",
       "G_endDate                 0\n",
       "A_startDate               0\n",
       "A_endDate                 0\n",
       "brief                     0\n",
       "dtype: int64"
      ]
     },
     "execution_count": 19,
     "metadata": {},
     "output_type": "execute_result"
    }
   ],
   "source": [
    "train_mode_imp.isnull().sum()"
   ]
  },
  {
   "cell_type": "code",
   "execution_count": 20,
   "metadata": {},
   "outputs": [],
   "source": [
    "df_all = pd.concat([train_mean_imp, train_mode_imp], axis=1)"
   ]
  },
  {
   "cell_type": "code",
   "execution_count": 21,
   "metadata": {},
   "outputs": [
    {
     "data": {
      "text/plain": [
       "0        1.991062e+07\n",
       "1        1.988407e+07\n",
       "2        1.998060e+07\n",
       "3        1.988407e+07\n",
       "4        1.988407e+07\n",
       "             ...     \n",
       "53025    1.988023e+07\n",
       "53026    1.988407e+07\n",
       "53027    1.988081e+07\n",
       "53028    1.988407e+07\n",
       "53029    1.988407e+07\n",
       "Name: ngaySinh, Length: 53030, dtype: float64"
      ]
     },
     "execution_count": 21,
     "metadata": {},
     "output_type": "execute_result"
    }
   ],
   "source": [
    "df_all[\"ngaySinh\"]"
   ]
  },
  {
   "cell_type": "markdown",
   "metadata": {},
   "source": [
    "# Nhóm I:"
   ]
  },
  {
   "cell_type": "code",
   "execution_count": 22,
   "metadata": {},
   "outputs": [
    {
     "data": {
      "text/html": [
       "<div>\n",
       "<style scoped>\n",
       "    .dataframe tbody tr th:only-of-type {\n",
       "        vertical-align: middle;\n",
       "    }\n",
       "\n",
       "    .dataframe tbody tr th {\n",
       "        vertical-align: top;\n",
       "    }\n",
       "\n",
       "    .dataframe thead th {\n",
       "        text-align: right;\n",
       "    }\n",
       "</style>\n",
       "<table border=\"1\" class=\"dataframe\">\n",
       "  <thead>\n",
       "    <tr style=\"text-align: right;\">\n",
       "      <th></th>\n",
       "      <th>Field_5</th>\n",
       "      <th>Field_6</th>\n",
       "      <th>Field_7</th>\n",
       "      <th>Field_8</th>\n",
       "      <th>Field_9</th>\n",
       "      <th>Field_11</th>\n",
       "      <th>Field_15</th>\n",
       "      <th>Field_25</th>\n",
       "      <th>Field_33</th>\n",
       "      <th>Field_34</th>\n",
       "      <th>Field_35</th>\n",
       "      <th>Field_40</th>\n",
       "      <th>Field_1</th>\n",
       "      <th>Field_2</th>\n",
       "      <th>Field_43</th>\n",
       "      <th>Field_44</th>\n",
       "      <th>Field_34</th>\n",
       "    </tr>\n",
       "  </thead>\n",
       "  <tbody>\n",
       "    <tr>\n",
       "      <th>104</th>\n",
       "      <td>2018-12-17</td>\n",
       "      <td>2018-12-17</td>\n",
       "      <td>2019-01-01</td>\n",
       "      <td>2019-12-31</td>\n",
       "      <td>2018-12-17</td>\n",
       "      <td>2019-10-31</td>\n",
       "      <td>2013-08-31</td>\n",
       "      <td>2018-12-17</td>\n",
       "      <td>2015-01-01</td>\n",
       "      <td>20180213</td>\n",
       "      <td>2019-10-31</td>\n",
       "      <td>2019-01-01</td>\n",
       "      <td>2018-12-17T08:28:45.505Z</td>\n",
       "      <td>2018-12-28T02:56:14Z</td>\n",
       "      <td>2017-02-13T11:04:58.043Z</td>\n",
       "      <td>2019-10-03T03:23:44Z</td>\n",
       "      <td>20180213</td>\n",
       "    </tr>\n",
       "    <tr>\n",
       "      <th>31298</th>\n",
       "      <td>2018-12-27</td>\n",
       "      <td>2018-12-27</td>\n",
       "      <td>2019-01-01</td>\n",
       "      <td>2019-12-31</td>\n",
       "      <td>2018-12-27</td>\n",
       "      <td>2019-10-31</td>\n",
       "      <td>2013-08-31</td>\n",
       "      <td>2018-12-27</td>\n",
       "      <td>2015-01-01</td>\n",
       "      <td>20180102</td>\n",
       "      <td>2019-10-31</td>\n",
       "      <td>2019-01-01</td>\n",
       "      <td>2017-03-24T20:10:37.62Z</td>\n",
       "      <td>2017-03-24T20:10:37.62Z</td>\n",
       "      <td>2017-03-24T14:37:56.11Z</td>\n",
       "      <td>2019-06-26T10:24:56Z</td>\n",
       "      <td>20180102</td>\n",
       "    </tr>\n",
       "    <tr>\n",
       "      <th>47817</th>\n",
       "      <td>2018-12-27</td>\n",
       "      <td>2018-12-27</td>\n",
       "      <td>2019-01-01</td>\n",
       "      <td>2019-12-31</td>\n",
       "      <td>2018-12-27</td>\n",
       "      <td>2019-10-31</td>\n",
       "      <td>2013-08-31</td>\n",
       "      <td>2018-12-27</td>\n",
       "      <td>2015-01-01</td>\n",
       "      <td>20180102</td>\n",
       "      <td>2019-10-31</td>\n",
       "      <td>2019-01-01</td>\n",
       "      <td>2017-03-24T20:10:37.62Z</td>\n",
       "      <td>2017-03-24T20:10:37.62Z</td>\n",
       "      <td>2017-03-24T14:37:56.11Z</td>\n",
       "      <td>2019-06-26T10:24:56Z</td>\n",
       "      <td>20180102</td>\n",
       "    </tr>\n",
       "    <tr>\n",
       "      <th>36590</th>\n",
       "      <td>2018-12-27</td>\n",
       "      <td>2018-12-27</td>\n",
       "      <td>2019-01-01</td>\n",
       "      <td>2019-12-31</td>\n",
       "      <td>2018-12-27</td>\n",
       "      <td>2019-10-31</td>\n",
       "      <td>2013-08-31</td>\n",
       "      <td>2018-12-27</td>\n",
       "      <td>2015-01-01</td>\n",
       "      <td>20180102</td>\n",
       "      <td>2019-10-31</td>\n",
       "      <td>2019-01-01</td>\n",
       "      <td>2017-03-24T20:10:37.62Z</td>\n",
       "      <td>2017-03-24T20:10:37.62Z</td>\n",
       "      <td>2017-03-24T14:37:56.11Z</td>\n",
       "      <td>2019-06-26T10:24:56Z</td>\n",
       "      <td>20180102</td>\n",
       "    </tr>\n",
       "    <tr>\n",
       "      <th>41546</th>\n",
       "      <td>2018-12-27</td>\n",
       "      <td>2018-12-27</td>\n",
       "      <td>2019-01-01</td>\n",
       "      <td>2019-12-31</td>\n",
       "      <td>2018-12-27</td>\n",
       "      <td>2019-10-31</td>\n",
       "      <td>2013-08-31</td>\n",
       "      <td>2018-12-27</td>\n",
       "      <td>2015-01-01</td>\n",
       "      <td>20180102</td>\n",
       "      <td>2019-10-31</td>\n",
       "      <td>2019-01-01</td>\n",
       "      <td>2017-03-24T20:10:37.62Z</td>\n",
       "      <td>2017-03-24T20:10:37.62Z</td>\n",
       "      <td>2017-03-24T14:37:56.11Z</td>\n",
       "      <td>2019-06-26T10:24:56Z</td>\n",
       "      <td>20180102</td>\n",
       "    </tr>\n",
       "    <tr>\n",
       "      <th>3131</th>\n",
       "      <td>2016-06-27</td>\n",
       "      <td>2016-12-31</td>\n",
       "      <td>2016-07-01</td>\n",
       "      <td>2016-08-31</td>\n",
       "      <td>2016-06-27</td>\n",
       "      <td>2016-09-01</td>\n",
       "      <td>2016-06-27</td>\n",
       "      <td>2016-06-27</td>\n",
       "      <td>2015-01-01</td>\n",
       "      <td>20160504</td>\n",
       "      <td>2019-10-31</td>\n",
       "      <td>2019-01-01</td>\n",
       "      <td>2017-01-19T11:28:49.877Z</td>\n",
       "      <td>2017-01-19T11:28:49.877Z</td>\n",
       "      <td>2017-01-19T10:31:03.167Z</td>\n",
       "      <td>2019-09-09T01:59:17.707Z</td>\n",
       "      <td>20160504</td>\n",
       "    </tr>\n",
       "    <tr>\n",
       "      <th>21287</th>\n",
       "      <td>2018-12-22</td>\n",
       "      <td>2018-12-22</td>\n",
       "      <td>2019-01-01</td>\n",
       "      <td>2019-12-31</td>\n",
       "      <td>2018-12-22</td>\n",
       "      <td>2019-10-31</td>\n",
       "      <td>2013-08-31</td>\n",
       "      <td>2019-01-02</td>\n",
       "      <td>2020-01-01</td>\n",
       "      <td>20180303</td>\n",
       "      <td>2019-10-31</td>\n",
       "      <td>2019-01-01</td>\n",
       "      <td>2018-12-22T03:29:02.253Z</td>\n",
       "      <td>2019-01-09T06:34:10Z</td>\n",
       "      <td>2017-03-17T11:29:41.62Z</td>\n",
       "      <td>2019-07-23T09:53:58.15Z</td>\n",
       "      <td>20180303</td>\n",
       "    </tr>\n",
       "    <tr>\n",
       "      <th>11502</th>\n",
       "      <td>2018-12-27</td>\n",
       "      <td>2018-12-27</td>\n",
       "      <td>2019-01-01</td>\n",
       "      <td>2019-12-31</td>\n",
       "      <td>2018-12-27</td>\n",
       "      <td>2019-10-31</td>\n",
       "      <td>2013-08-31</td>\n",
       "      <td>2018-12-27</td>\n",
       "      <td>2015-01-01</td>\n",
       "      <td>20180102</td>\n",
       "      <td>2019-10-31</td>\n",
       "      <td>2019-01-01</td>\n",
       "      <td>2017-03-24T20:10:37.62Z</td>\n",
       "      <td>2017-03-24T20:10:37.62Z</td>\n",
       "      <td>2017-03-24T14:37:56.11Z</td>\n",
       "      <td>2019-06-26T10:24:56Z</td>\n",
       "      <td>20180102</td>\n",
       "    </tr>\n",
       "    <tr>\n",
       "      <th>51013</th>\n",
       "      <td>2018-12-27</td>\n",
       "      <td>2018-12-27</td>\n",
       "      <td>2019-01-01</td>\n",
       "      <td>2019-12-31</td>\n",
       "      <td>2018-12-27</td>\n",
       "      <td>2019-10-31</td>\n",
       "      <td>2013-08-31</td>\n",
       "      <td>2018-12-27</td>\n",
       "      <td>2015-01-01</td>\n",
       "      <td>20180102</td>\n",
       "      <td>2019-10-31</td>\n",
       "      <td>2019-01-01</td>\n",
       "      <td>2017-03-24T20:10:37.62Z</td>\n",
       "      <td>2017-03-24T20:10:37.62Z</td>\n",
       "      <td>2017-03-24T14:37:56.11Z</td>\n",
       "      <td>2019-06-26T10:24:56Z</td>\n",
       "      <td>20180102</td>\n",
       "    </tr>\n",
       "    <tr>\n",
       "      <th>19334</th>\n",
       "      <td>2018-12-27</td>\n",
       "      <td>2018-12-27</td>\n",
       "      <td>2019-01-01</td>\n",
       "      <td>2019-12-31</td>\n",
       "      <td>2018-12-27</td>\n",
       "      <td>2019-10-31</td>\n",
       "      <td>2013-08-31</td>\n",
       "      <td>2018-12-27</td>\n",
       "      <td>2015-01-01</td>\n",
       "      <td>20180102</td>\n",
       "      <td>2019-10-31</td>\n",
       "      <td>2019-01-01</td>\n",
       "      <td>2017-03-24T20:10:37.62Z</td>\n",
       "      <td>2017-03-24T20:10:37.62Z</td>\n",
       "      <td>2017-03-24T14:37:56.11Z</td>\n",
       "      <td>2019-06-26T10:24:56Z</td>\n",
       "      <td>20180102</td>\n",
       "    </tr>\n",
       "  </tbody>\n",
       "</table>\n",
       "</div>"
      ],
      "text/plain": [
       "          Field_5     Field_6     Field_7     Field_8     Field_9    Field_11  \\\n",
       "104    2018-12-17  2018-12-17  2019-01-01  2019-12-31  2018-12-17  2019-10-31   \n",
       "31298  2018-12-27  2018-12-27  2019-01-01  2019-12-31  2018-12-27  2019-10-31   \n",
       "47817  2018-12-27  2018-12-27  2019-01-01  2019-12-31  2018-12-27  2019-10-31   \n",
       "36590  2018-12-27  2018-12-27  2019-01-01  2019-12-31  2018-12-27  2019-10-31   \n",
       "41546  2018-12-27  2018-12-27  2019-01-01  2019-12-31  2018-12-27  2019-10-31   \n",
       "3131   2016-06-27  2016-12-31  2016-07-01  2016-08-31  2016-06-27  2016-09-01   \n",
       "21287  2018-12-22  2018-12-22  2019-01-01  2019-12-31  2018-12-22  2019-10-31   \n",
       "11502  2018-12-27  2018-12-27  2019-01-01  2019-12-31  2018-12-27  2019-10-31   \n",
       "51013  2018-12-27  2018-12-27  2019-01-01  2019-12-31  2018-12-27  2019-10-31   \n",
       "19334  2018-12-27  2018-12-27  2019-01-01  2019-12-31  2018-12-27  2019-10-31   \n",
       "\n",
       "         Field_15    Field_25    Field_33  Field_34    Field_35    Field_40  \\\n",
       "104    2013-08-31  2018-12-17  2015-01-01  20180213  2019-10-31  2019-01-01   \n",
       "31298  2013-08-31  2018-12-27  2015-01-01  20180102  2019-10-31  2019-01-01   \n",
       "47817  2013-08-31  2018-12-27  2015-01-01  20180102  2019-10-31  2019-01-01   \n",
       "36590  2013-08-31  2018-12-27  2015-01-01  20180102  2019-10-31  2019-01-01   \n",
       "41546  2013-08-31  2018-12-27  2015-01-01  20180102  2019-10-31  2019-01-01   \n",
       "3131   2016-06-27  2016-06-27  2015-01-01  20160504  2019-10-31  2019-01-01   \n",
       "21287  2013-08-31  2019-01-02  2020-01-01  20180303  2019-10-31  2019-01-01   \n",
       "11502  2013-08-31  2018-12-27  2015-01-01  20180102  2019-10-31  2019-01-01   \n",
       "51013  2013-08-31  2018-12-27  2015-01-01  20180102  2019-10-31  2019-01-01   \n",
       "19334  2013-08-31  2018-12-27  2015-01-01  20180102  2019-10-31  2019-01-01   \n",
       "\n",
       "                        Field_1                   Field_2  \\\n",
       "104    2018-12-17T08:28:45.505Z      2018-12-28T02:56:14Z   \n",
       "31298   2017-03-24T20:10:37.62Z   2017-03-24T20:10:37.62Z   \n",
       "47817   2017-03-24T20:10:37.62Z   2017-03-24T20:10:37.62Z   \n",
       "36590   2017-03-24T20:10:37.62Z   2017-03-24T20:10:37.62Z   \n",
       "41546   2017-03-24T20:10:37.62Z   2017-03-24T20:10:37.62Z   \n",
       "3131   2017-01-19T11:28:49.877Z  2017-01-19T11:28:49.877Z   \n",
       "21287  2018-12-22T03:29:02.253Z      2019-01-09T06:34:10Z   \n",
       "11502   2017-03-24T20:10:37.62Z   2017-03-24T20:10:37.62Z   \n",
       "51013   2017-03-24T20:10:37.62Z   2017-03-24T20:10:37.62Z   \n",
       "19334   2017-03-24T20:10:37.62Z   2017-03-24T20:10:37.62Z   \n",
       "\n",
       "                       Field_43                  Field_44  Field_34  \n",
       "104    2017-02-13T11:04:58.043Z      2019-10-03T03:23:44Z  20180213  \n",
       "31298   2017-03-24T14:37:56.11Z      2019-06-26T10:24:56Z  20180102  \n",
       "47817   2017-03-24T14:37:56.11Z      2019-06-26T10:24:56Z  20180102  \n",
       "36590   2017-03-24T14:37:56.11Z      2019-06-26T10:24:56Z  20180102  \n",
       "41546   2017-03-24T14:37:56.11Z      2019-06-26T10:24:56Z  20180102  \n",
       "3131   2017-01-19T10:31:03.167Z  2019-09-09T01:59:17.707Z  20160504  \n",
       "21287   2017-03-17T11:29:41.62Z   2019-07-23T09:53:58.15Z  20180303  \n",
       "11502   2017-03-24T14:37:56.11Z      2019-06-26T10:24:56Z  20180102  \n",
       "51013   2017-03-24T14:37:56.11Z      2019-06-26T10:24:56Z  20180102  \n",
       "19334   2017-03-24T14:37:56.11Z      2019-06-26T10:24:56Z  20180102  "
      ]
     },
     "execution_count": 22,
     "metadata": {},
     "output_type": "execute_result"
    }
   ],
   "source": [
    "#xử lí date và dateTime\n",
    "Date = ['Field_{}'.format(i) for i in [5, 6, 7, 8, 9, 11, 15, 25, 33, 34, 35, 40]]\n",
    "DateTime = ['Field_{}'.format(i) for i in [1, 2, 43, 44]]\n",
    "df_all[Date + DateTime + ['Field_34']].sample(10)\n",
    "# sampl: ý nghĩa lấy bất cứ dòng nào có trong dataset"
   ]
  },
  {
   "cell_type": "code",
   "execution_count": 23,
   "metadata": {},
   "outputs": [],
   "source": [
    "#xử lí thằng Field_34\n",
    "#hàm chung cho field_34 và ngaySinh\n",
    "def process_field_34(x):\n",
    "    if x != x:\n",
    "        return np.nan\n",
    "    try:\n",
    "        x = int(x)\n",
    "    except ValueError:\n",
    "        x = x.split(' ')[0]\n",
    "    \n",
    "    return datetime.strptime(str(x)[:6], \"%Y%m\")"
   ]
  },
  {
   "cell_type": "code",
   "execution_count": 24,
   "metadata": {},
   "outputs": [],
   "source": [
    "#xử lí feature date\n",
    "#hàm chung cho đối tượng datetime(d-m-y)\n",
    "def process_date(x):\n",
    "    if x != x:\n",
    "        return np.nan\n",
    "    try:\n",
    "        date_obj = datetime.strptime(x, '%m/%d/%Y')\n",
    "    except:\n",
    "        date_obj = datetime.strptime(x, '%Y-%m-%d')\n",
    "    return date_obj"
   ]
  },
  {
   "cell_type": "code",
   "execution_count": 25,
   "metadata": {},
   "outputs": [],
   "source": [
    "#xử lí feature datetime\n",
    "# xử lí datetime có trong df_all mà có dạng T & Z\n",
    "def process_datetime(x):\n",
    "    if x != x:\n",
    "        return np.nan\n",
    "    x = x.split('.')[0]\n",
    "    \n",
    "    if x[-1] == 'Z':\n",
    "        x = x[:-1]\n",
    "    date, time = x.split('T')\n",
    "    datetime_obj = datetime.strptime(x, \"%Y-%m-%dT%H:%M:%S\")\n",
    "    return datetime_obj"
   ]
  },
  {
   "cell_type": "code",
   "execution_count": 26,
   "metadata": {},
   "outputs": [],
   "source": [
    "# Xử lí nhóm thứ nhất\n",
    "def process_nhom_I_cols(df):\n",
    "    cat_cols = []\n",
    "    for col in Date:\n",
    "        if col == 'Field_34':\n",
    "            continue\n",
    "        df[col] = df[col].apply(process_date) #gọi lại hàm xử lí đối tượng 'date'\n",
    "        \n",
    "    for col in DateTime:\n",
    "        df[col] = df[col].apply(process_datetime) #gọi lại hàm xử lí 'datetime'\n",
    " \n",
    "    df['Field_34'] = df['Field_34'].apply(process_field_34) #gọi lại hàm xử lí 'field_34'\n",
    "    #df['ngaySinh'] = df['ngaySinh'].apply(process_field_34)\n",
    "    cat_cols += Date + DateTime\n",
    "    for col in Date + DateTime:\n",
    "        df[col] = df[col].dt.strftime('%m-%Y')\n",
    "    \n",
    "    # các cọt có ngày tháng năm có trong _startDate và _endDate\n",
    "    for cat in ['F', 'E', 'C', 'G', 'A']:\n",
    "        df[f'{cat}_startDate'] = pd.to_datetime(df[f\"{cat}_startDate\"], infer_datetime_format=True)\n",
    "        df[f'{cat}_endDate'] = pd.to_datetime(df[f\"{cat}_endDate\"], infer_datetime_format=True)\n",
    "        \n",
    "        df[f'{cat}_startDate'] = df[f'{cat}_startDate'].dt.strftime('%m-%Y')\n",
    "        df[f'{cat}_endDate'] = df[f'{cat}_endDate'].dt.strftime('%m-%Y')\n",
    "        \n",
    "        cat_cols.append(f'{cat}_startDate')\n",
    "        cat_cols.append(f'{cat}_endDate')\n",
    "    \n",
    "    for col in cat_cols:\n",
    "        df[col] = df[col].astype('category')\n",
    "    \n",
    "    return df"
   ]
  },
  {
   "cell_type": "markdown",
   "metadata": {},
   "source": [
    "# Nhóm II:"
   ]
  },
  {
   "cell_type": "code",
   "execution_count": 27,
   "metadata": {},
   "outputs": [],
   "source": [
    "# Trong nhóm II có 6 cột thỏa mãn: CJ, CK, CL, CM, CN, CO (số)\n",
    "# Có nhiều số 0 trong các cột này (dựa vào tableu) gây nhiễu, loại bỏ\n",
    "def prepare_process_II(df):\n",
    "    df = str(df).strip().lower()\n",
    "    df = re.sub(' +', ' ', df)\n",
    "    return df\n",
    "\n",
    "def process_II_cols(df):\n",
    "    for col in ['currentLocationLocationId', 'currentLocationLatitude', 'currentLocationLongitude',\n",
    "                'homeTownLocationId', 'homeTownLatitude', 'homeTownLongitude']:\n",
    "        df[col].replace(0, np.nan, inplace=True)\n",
    "    df['currentLocationLocationId'] = df['currentLocationLocationId'].apply(prepare_process_II).astype('category')\n",
    "    df['homeTownLocationId'] = df['homeTownLocationId'].apply(prepare_process_II).astype('category')\n",
    "    return df"
   ]
  },
  {
   "cell_type": "markdown",
   "metadata": {},
   "source": [
    "# Nhóm III"
   ]
  },
  {
   "cell_type": "code",
   "execution_count": 28,
   "metadata": {},
   "outputs": [],
   "source": [
    "def prepare_process_III(df):\n",
    "    df = str(df).strip().lower()\n",
    "    df = re.sub(' + ', ' ', df)\n",
    "    return df\n",
    "\n",
    "def job_category(x):\n",
    "    if type(x) == str:\n",
    "        if \"công nhân\" in x or \"cnv\" in x or \"cn\" in x or \"may công nghiệp\" in x or \"lao động\" in x\\\n",
    "        or \"thợ\" in x or \"coõng nhaõn trửùc tieỏp maựy may coõng nghieọp\" in x or \"c.n\" in x or \"lđ\" in x\\\n",
    "        or \"CN\" in x or \"CNhân\" in x or \"Cnhân\" in x or \"CNV\" in x:\n",
    "            return \"CN\"\n",
    "        elif \"giáo viên\" in x or \"gv\" in x or \"gíao viên\" in x:\n",
    "            return \"GV\"\n",
    "        elif \"nhân viên\" in x or \"kế toán\" in x or \"cán bộ\" in x or \"nv\" in x or \"cb\" in x or \"nhõn viờn\" in x:\n",
    "            return \"NV\"\n",
    "        elif \"tài xế\" in x or \"lái\" in x or \"tài xê\" in x:\n",
    "            return \"TX\"\n",
    "        elif \"quản lý\" in x or \"phó phòng\" in x or \"hiệu phó\" in x:\n",
    "            return \"QL\"\n",
    "        elif \"undefined\" in x:\n",
    "            return \"missing\"\n",
    "        elif \"giám đốc\" in x or \"hiệu trưởng\" in x:\n",
    "            return \"GĐ\"\n",
    "        elif \"phục vụ\" in x:\n",
    "            return \"PV\"\n",
    "        elif \"chuyên viên\" in x:\n",
    "            return  \"CV\"\n",
    "        elif \"bác sĩ\" in x or \"dược sĩ\" in x or \"y sĩ\" in x or \"y sỹ\" in x:\n",
    "            return \"BS\"\n",
    "        elif \"y tá\" in x:\n",
    "            return \"YT\"\n",
    "        elif \"hộ sinh\" in x:\n",
    "            return \"HS\"\n",
    "        elif \"chủ tịch\" in x:\n",
    "            return \"CT\"\n",
    "        elif \"bếp\" in x:\n",
    "            return \"ĐB\"\n",
    "        elif \"sư\" in x:\n",
    "            return \"KS\"\n",
    "        elif \"dưỡng\" in x:\n",
    "            return \"ĐD\"\n",
    "        elif \"kỹ thuật\" in x or \"kĩ thuật\" in x:\n",
    "            return \"KTV\"\n",
    "        elif \"diễn viên\" in x:\n",
    "            return \"DV\"\n",
    "        else:\n",
    "            return \"missing\"\n",
    "    else:\n",
    "        return x\n",
    "    \n",
    "def process_III_cols(df):\n",
    "    df[\"maCv\"] = df[\"maCv\"].apply(prepare_process_III).apply(job_category).astype(\"category\")\n",
    "    return df"
   ]
  },
  {
   "cell_type": "markdown",
   "metadata": {},
   "source": [
    "# Nhóm IV"
   ]
  },
  {
   "cell_type": "code",
   "execution_count": 29,
   "metadata": {},
   "outputs": [],
   "source": [
    "#Gộp hai nhóm này lại để giảm bớt trường hợp thiếu\n",
    "#hàm kết nối hai feature trên thành lại một feature có tên là \"Giới Tính\"\n",
    "def prepare_process_IV(df):\n",
    "    x, y = df\n",
    "    if x != x and y != y:\n",
    "        return 'nan'\n",
    "    if x != x:\n",
    "        return y.lower()\n",
    "    return x.lower()\n",
    "\n",
    "def process_IV_cols(df):\n",
    "    df[\"Giới Tính\"] = df[['gioiTinh', 'info_social_sex']].apply(prepare_process_IV, axis=1).astype('category')\n",
    "    return df"
   ]
  },
  {
   "cell_type": "markdown",
   "metadata": {},
   "source": [
    "# Nhóm V:"
   ]
  },
  {
   "cell_type": "code",
   "execution_count": 30,
   "metadata": {},
   "outputs": [
    {
     "data": {
      "image/png": "[encoded data removed]",
      "text/plain": [
       "<Figure size 648x360 with 1 Axes>"
      ]
     },
     "metadata": {
      "needs_background": "light"
     },
     "output_type": "display_data"
    }
   ],
   "source": [
    "#Xem lại Field_38\n",
    "plt.subplots(figsize=(9,5))\n",
    "sns.countplot(y=\"Field_38\", data=df_train,order=df_train[\"Field_38\"].value_counts().index)\n",
    "plt.title(\"Các giá trị trong Field_38\")\n",
    "plt.xlabel(\"Số lượng\")\n",
    "plt.show();"
   ]
  },
  {
   "cell_type": "code",
   "execution_count": 31,
   "metadata": {},
   "outputs": [],
   "source": [
    "def prepare_process_V(df):\n",
    "    df = str(df).strip().lower()\n",
    "    df = re.sub(' + ', ' ', df)\n",
    "    return df\n",
    "\n",
    "def process_V_cols(df):\n",
    "    # mã hóa lại các cột sau:\n",
    "    df['Field_62'] = df['Field_62'].map({'I': 1, 'II': 2, 'III': 3, 'IV': 4, 'V': 5})\n",
    "    df['Field_47'] = df['Field_47'].map({'Zezo': 0, 'One': 1, 'Tw0': 2, 'Three': 3, 'Four': 4})\n",
    "    \n",
    "    # xử lí các cột có nhiều số 0.0\n",
    "    df[\"Field_27\"] = df[\"Field_27\"].replace({0.0: np.nan})\n",
    "    df[\"Field_28\"] = df[\"Field_28\"].replace({0.0: np.nan})\n",
    "    df[\"Field_19\"] = df[\"Field_19\"].replace({0.0: np.nan})\n",
    "    df[\"Field_29\"] = df[\"Field_29\"].replace({0.0: np.nan})\n",
    "    \n",
    "    # xử lí biến categorical\n",
    "    df['friendCount'] = df['friendCount'].replace(0.0, np.nan, inplace=True)\n",
    "    df['subscriberCount'] = df['subscriberCount'].replace(0.0, np.nan, inplace=True)\n",
    "    \n",
    "    #xử lí field_38\n",
    "    df['Field_38'] = df['Field_38'].map({0: 0.0, 1: 1.0, 'DN': np.nan, 'TN': np.nan })\n",
    "    \n",
    "    for col in df.columns:\n",
    "        if df[col].dtype.name == 'object':\n",
    "            df[col] = df[col].apply(prepare_process_V).astype('category')\n",
    "    \n",
    "    return df"
   ]
  },
  {
   "cell_type": "code",
   "execution_count": 32,
   "metadata": {},
   "outputs": [],
   "source": [
    "#Drop những cột không cần thiết\n",
    "drop = ['Field_14', 'Field_16', 'Field_17', 'Field_24', 'Field_26', 'Field_30', 'Field_31', 'Field_37', 'Field_52',\n",
    "        'Field_57', 'partner0_B', 'partner0_K', 'partner0_L', 'partner1_B', 'partner1_D', 'partner1_E', 'partner1_F',\n",
    "        'partner1_K', 'partner1_L', 'partner2_B', 'partner2_G', 'partner2_K', 'partner2_L', 'partner3_B', 'partner3_F',\n",
    "        'partner3_G', 'partner3_H', 'partner3_K', 'partner3_L', 'partner4_A', 'partner4_B', 'partner4_C', 'partner4_D',\n",
    "        'partner4_E', 'partner4_F', 'partner4_G', 'partner4_H', 'partner4_K', 'partner4_L', 'partner5_B', 'partner5_C',\n",
    "        'partner5_H', 'partner5_K', 'partner5_L', 'Field_34', 'info_social_sex', 'data.basic_info.locale', 'homeTownCountry',\n",
    "        'Field_2', 'Field_5', 'Field_49', 'Field_9', 'gioiTinh', 'ngaySinh', 'namSinh']\n",
    "\n",
    "def transform(df):\n",
    "    df = process_nhom_I_cols(df)\n",
    "    df = process_II_cols(df)\n",
    "    df = process_III_cols(df)\n",
    "    df = process_IV_cols(df)\n",
    "    df = process_V_cols(df)\n",
    "    return df.drop(drop, 1)"
   ]
  },
  {
   "cell_type": "code",
   "execution_count": 33,
   "metadata": {},
   "outputs": [],
   "source": [
    "# kết nối lại tất cả các feature lại với nhau\n",
    "all_data = transform(df_all.copy())"
   ]
  },
  {
   "cell_type": "code",
   "execution_count": 34,
   "metadata": {},
   "outputs": [
    {
     "name": "stdout",
     "output_type": "stream",
     "text": [
      "Có tất cả 138 cột.\n",
      "Có tất cả 11 cột bị thiếu data\n"
     ]
    }
   ],
   "source": [
    "df_all_mis = missing_values(all_data)"
   ]
  },
  {
   "cell_type": "code",
   "execution_count": 35,
   "metadata": {},
   "outputs": [
    {
     "data": {
      "text/html": [
       "<div>\n",
       "<style scoped>\n",
       "    .dataframe tbody tr th:only-of-type {\n",
       "        vertical-align: middle;\n",
       "    }\n",
       "\n",
       "    .dataframe tbody tr th {\n",
       "        vertical-align: top;\n",
       "    }\n",
       "\n",
       "    .dataframe thead th {\n",
       "        text-align: right;\n",
       "    }\n",
       "</style>\n",
       "<table border=\"1\" class=\"dataframe\">\n",
       "  <thead>\n",
       "    <tr style=\"text-align: right;\">\n",
       "      <th></th>\n",
       "      <th>Thiếu</th>\n",
       "      <th>Chiếm %</th>\n",
       "    </tr>\n",
       "  </thead>\n",
       "  <tbody>\n",
       "    <tr>\n",
       "      <th>Field_28</th>\n",
       "      <td>23414</td>\n",
       "      <td>44.2</td>\n",
       "    </tr>\n",
       "    <tr>\n",
       "      <th>Field_27</th>\n",
       "      <td>23330</td>\n",
       "      <td>44.0</td>\n",
       "    </tr>\n",
       "    <tr>\n",
       "      <th>Field_19</th>\n",
       "      <td>22583</td>\n",
       "      <td>42.6</td>\n",
       "    </tr>\n",
       "    <tr>\n",
       "      <th>homeTownLatitude</th>\n",
       "      <td>11546</td>\n",
       "      <td>21.8</td>\n",
       "    </tr>\n",
       "    <tr>\n",
       "      <th>homeTownLongitude</th>\n",
       "      <td>11546</td>\n",
       "      <td>21.8</td>\n",
       "    </tr>\n",
       "    <tr>\n",
       "      <th>currentLocationLatitude</th>\n",
       "      <td>10391</td>\n",
       "      <td>19.6</td>\n",
       "    </tr>\n",
       "    <tr>\n",
       "      <th>currentLocationLongitude</th>\n",
       "      <td>10391</td>\n",
       "      <td>19.6</td>\n",
       "    </tr>\n",
       "    <tr>\n",
       "      <th>Field_29</th>\n",
       "      <td>8969</td>\n",
       "      <td>16.9</td>\n",
       "    </tr>\n",
       "    <tr>\n",
       "      <th>Field_38</th>\n",
       "      <td>3768</td>\n",
       "      <td>7.1</td>\n",
       "    </tr>\n",
       "    <tr>\n",
       "      <th>Field_47</th>\n",
       "      <td>1786</td>\n",
       "      <td>3.4</td>\n",
       "    </tr>\n",
       "    <tr>\n",
       "      <th>Field_62</th>\n",
       "      <td>1</td>\n",
       "      <td>0.0</td>\n",
       "    </tr>\n",
       "  </tbody>\n",
       "</table>\n",
       "</div>"
      ],
      "text/plain": [
       "                          Thiếu  Chiếm %\n",
       "Field_28                  23414     44.2\n",
       "Field_27                  23330     44.0\n",
       "Field_19                  22583     42.6\n",
       "homeTownLatitude          11546     21.8\n",
       "homeTownLongitude         11546     21.8\n",
       "currentLocationLatitude   10391     19.6\n",
       "currentLocationLongitude  10391     19.6\n",
       "Field_29                   8969     16.9\n",
       "Field_38                   3768      7.1\n",
       "Field_47                   1786      3.4\n",
       "Field_62                      1      0.0"
      ]
     },
     "execution_count": 35,
     "metadata": {},
     "output_type": "execute_result"
    }
   ],
   "source": [
    "df_all_mis"
   ]
  },
  {
   "cell_type": "code",
   "execution_count": 36,
   "metadata": {},
   "outputs": [],
   "source": [
    "all_data = all_data.drop(['Field_28', 'Field_27', 'Field_19', 'homeTownLatitude', 'homeTownLongitude',\n",
    "                          'currentLocationLatitude', 'currentLocationLongitude', 'Field_29', 'Field_38',\n",
    "                          'Field_47', 'Field_62'],axis=1)"
   ]
  },
  {
   "cell_type": "code",
   "execution_count": 37,
   "metadata": {},
   "outputs": [
    {
     "data": {
      "text/html": [
       "<div>\n",
       "<style scoped>\n",
       "    .dataframe tbody tr th:only-of-type {\n",
       "        vertical-align: middle;\n",
       "    }\n",
       "\n",
       "    .dataframe tbody tr th {\n",
       "        vertical-align: top;\n",
       "    }\n",
       "\n",
       "    .dataframe thead th {\n",
       "        text-align: right;\n",
       "    }\n",
       "</style>\n",
       "<table border=\"1\" class=\"dataframe\">\n",
       "  <thead>\n",
       "    <tr style=\"text-align: right;\">\n",
       "      <th></th>\n",
       "      <th>Field_3</th>\n",
       "      <th>Field_10</th>\n",
       "      <th>Field_13</th>\n",
       "      <th>Field_20</th>\n",
       "      <th>Field_21</th>\n",
       "      <th>Field_22</th>\n",
       "      <th>Field_23</th>\n",
       "      <th>Field_39</th>\n",
       "      <th>Field_41</th>\n",
       "      <th>Field_42</th>\n",
       "      <th>...</th>\n",
       "      <th>E_startDate</th>\n",
       "      <th>E_endDate</th>\n",
       "      <th>C_startDate</th>\n",
       "      <th>C_endDate</th>\n",
       "      <th>G_startDate</th>\n",
       "      <th>G_endDate</th>\n",
       "      <th>A_startDate</th>\n",
       "      <th>A_endDate</th>\n",
       "      <th>brief</th>\n",
       "      <th>Giới Tính</th>\n",
       "    </tr>\n",
       "  </thead>\n",
       "  <tbody>\n",
       "    <tr>\n",
       "      <th>0</th>\n",
       "      <td>1.000000</td>\n",
       "      <td>1.000000</td>\n",
       "      <td>1.0</td>\n",
       "      <td>4.258600e+06</td>\n",
       "      <td>4.500000</td>\n",
       "      <td>1.000000</td>\n",
       "      <td>16.00000</td>\n",
       "      <td>1.000000</td>\n",
       "      <td>1.000000</td>\n",
       "      <td>1.000000</td>\n",
       "      <td>...</td>\n",
       "      <td>08-2019</td>\n",
       "      <td>08-2019</td>\n",
       "      <td>10-2019</td>\n",
       "      <td>12-2019</td>\n",
       "      <td>10-2019</td>\n",
       "      <td>10-2019</td>\n",
       "      <td>06-2019</td>\n",
       "      <td>08-2019</td>\n",
       "      <td>cb1</td>\n",
       "      <td>male</td>\n",
       "    </tr>\n",
       "    <tr>\n",
       "      <th>1</th>\n",
       "      <td>1.538687</td>\n",
       "      <td>1.096542</td>\n",
       "      <td>1.0</td>\n",
       "      <td>3.603181e+06</td>\n",
       "      <td>4.485331</td>\n",
       "      <td>0.999452</td>\n",
       "      <td>31.47254</td>\n",
       "      <td>0.809537</td>\n",
       "      <td>0.762205</td>\n",
       "      <td>0.748709</td>\n",
       "      <td>...</td>\n",
       "      <td>08-2019</td>\n",
       "      <td>08-2019</td>\n",
       "      <td>10-2019</td>\n",
       "      <td>12-2019</td>\n",
       "      <td>10-2019</td>\n",
       "      <td>10-2019</td>\n",
       "      <td>07-2019</td>\n",
       "      <td>07-2019</td>\n",
       "      <td>4</td>\n",
       "      <td>male</td>\n",
       "    </tr>\n",
       "    <tr>\n",
       "      <th>2</th>\n",
       "      <td>2.000000</td>\n",
       "      <td>1.000000</td>\n",
       "      <td>1.0</td>\n",
       "      <td>5.000000e+06</td>\n",
       "      <td>4.500000</td>\n",
       "      <td>1.000000</td>\n",
       "      <td>10.00000</td>\n",
       "      <td>1.000000</td>\n",
       "      <td>1.000000</td>\n",
       "      <td>1.000000</td>\n",
       "      <td>...</td>\n",
       "      <td>08-2019</td>\n",
       "      <td>09-2019</td>\n",
       "      <td>10-2019</td>\n",
       "      <td>12-2019</td>\n",
       "      <td>10-2019</td>\n",
       "      <td>10-2019</td>\n",
       "      <td>09-2019</td>\n",
       "      <td>11-2019</td>\n",
       "      <td>1</td>\n",
       "      <td>female</td>\n",
       "    </tr>\n",
       "    <tr>\n",
       "      <th>3</th>\n",
       "      <td>1.538687</td>\n",
       "      <td>1.096542</td>\n",
       "      <td>1.0</td>\n",
       "      <td>3.603181e+06</td>\n",
       "      <td>4.485331</td>\n",
       "      <td>0.999452</td>\n",
       "      <td>31.47254</td>\n",
       "      <td>0.809537</td>\n",
       "      <td>0.762205</td>\n",
       "      <td>0.748709</td>\n",
       "      <td>...</td>\n",
       "      <td>08-2019</td>\n",
       "      <td>08-2019</td>\n",
       "      <td>10-2019</td>\n",
       "      <td>12-2019</td>\n",
       "      <td>10-2019</td>\n",
       "      <td>10-2019</td>\n",
       "      <td>09-2019</td>\n",
       "      <td>11-2019</td>\n",
       "      <td>1</td>\n",
       "      <td>male</td>\n",
       "    </tr>\n",
       "    <tr>\n",
       "      <th>4</th>\n",
       "      <td>1.538687</td>\n",
       "      <td>1.096542</td>\n",
       "      <td>1.0</td>\n",
       "      <td>3.603181e+06</td>\n",
       "      <td>4.485331</td>\n",
       "      <td>0.999452</td>\n",
       "      <td>31.47254</td>\n",
       "      <td>0.809537</td>\n",
       "      <td>0.762205</td>\n",
       "      <td>0.748709</td>\n",
       "      <td>...</td>\n",
       "      <td>08-2019</td>\n",
       "      <td>08-2019</td>\n",
       "      <td>10-2019</td>\n",
       "      <td>12-2019</td>\n",
       "      <td>10-2019</td>\n",
       "      <td>10-2019</td>\n",
       "      <td>09-2019</td>\n",
       "      <td>11-2019</td>\n",
       "      <td>1</td>\n",
       "      <td>male</td>\n",
       "    </tr>\n",
       "    <tr>\n",
       "      <th>...</th>\n",
       "      <td>...</td>\n",
       "      <td>...</td>\n",
       "      <td>...</td>\n",
       "      <td>...</td>\n",
       "      <td>...</td>\n",
       "      <td>...</td>\n",
       "      <td>...</td>\n",
       "      <td>...</td>\n",
       "      <td>...</td>\n",
       "      <td>...</td>\n",
       "      <td>...</td>\n",
       "      <td>...</td>\n",
       "      <td>...</td>\n",
       "      <td>...</td>\n",
       "      <td>...</td>\n",
       "      <td>...</td>\n",
       "      <td>...</td>\n",
       "      <td>...</td>\n",
       "      <td>...</td>\n",
       "      <td>...</td>\n",
       "      <td>...</td>\n",
       "    </tr>\n",
       "    <tr>\n",
       "      <th>53025</th>\n",
       "      <td>1.000000</td>\n",
       "      <td>1.000000</td>\n",
       "      <td>1.0</td>\n",
       "      <td>1.490000e+06</td>\n",
       "      <td>4.500000</td>\n",
       "      <td>1.000000</td>\n",
       "      <td>5.00000</td>\n",
       "      <td>1.000000</td>\n",
       "      <td>1.000000</td>\n",
       "      <td>1.000000</td>\n",
       "      <td>...</td>\n",
       "      <td>12-2019</td>\n",
       "      <td>12-2019</td>\n",
       "      <td>12-2019</td>\n",
       "      <td>12-2019</td>\n",
       "      <td>10-2019</td>\n",
       "      <td>10-2019</td>\n",
       "      <td>06-2019</td>\n",
       "      <td>12-2019</td>\n",
       "      <td>1</td>\n",
       "      <td>female</td>\n",
       "    </tr>\n",
       "    <tr>\n",
       "      <th>53026</th>\n",
       "      <td>1.538687</td>\n",
       "      <td>1.096542</td>\n",
       "      <td>1.0</td>\n",
       "      <td>3.603181e+06</td>\n",
       "      <td>4.485331</td>\n",
       "      <td>0.999452</td>\n",
       "      <td>31.47254</td>\n",
       "      <td>0.809537</td>\n",
       "      <td>0.762205</td>\n",
       "      <td>0.748709</td>\n",
       "      <td>...</td>\n",
       "      <td>08-2019</td>\n",
       "      <td>08-2019</td>\n",
       "      <td>10-2019</td>\n",
       "      <td>12-2019</td>\n",
       "      <td>02-2020</td>\n",
       "      <td>02-2020</td>\n",
       "      <td>01-2020</td>\n",
       "      <td>03-2020</td>\n",
       "      <td>notfound</td>\n",
       "      <td>male</td>\n",
       "    </tr>\n",
       "    <tr>\n",
       "      <th>53027</th>\n",
       "      <td>2.000000</td>\n",
       "      <td>1.000000</td>\n",
       "      <td>1.0</td>\n",
       "      <td>4.015000e+06</td>\n",
       "      <td>4.500000</td>\n",
       "      <td>1.000000</td>\n",
       "      <td>0.00000</td>\n",
       "      <td>1.000000</td>\n",
       "      <td>0.000000</td>\n",
       "      <td>0.000000</td>\n",
       "      <td>...</td>\n",
       "      <td>08-2019</td>\n",
       "      <td>08-2019</td>\n",
       "      <td>10-2019</td>\n",
       "      <td>12-2019</td>\n",
       "      <td>10-2019</td>\n",
       "      <td>10-2019</td>\n",
       "      <td>09-2019</td>\n",
       "      <td>11-2019</td>\n",
       "      <td>notfound</td>\n",
       "      <td>female</td>\n",
       "    </tr>\n",
       "    <tr>\n",
       "      <th>53028</th>\n",
       "      <td>1.538687</td>\n",
       "      <td>1.096542</td>\n",
       "      <td>1.0</td>\n",
       "      <td>3.603181e+06</td>\n",
       "      <td>4.485331</td>\n",
       "      <td>0.999452</td>\n",
       "      <td>31.47254</td>\n",
       "      <td>0.809537</td>\n",
       "      <td>0.762205</td>\n",
       "      <td>0.748709</td>\n",
       "      <td>...</td>\n",
       "      <td>08-2019</td>\n",
       "      <td>08-2019</td>\n",
       "      <td>10-2019</td>\n",
       "      <td>12-2019</td>\n",
       "      <td>10-2019</td>\n",
       "      <td>10-2019</td>\n",
       "      <td>01-2020</td>\n",
       "      <td>01-2020</td>\n",
       "      <td>notfound</td>\n",
       "      <td>male</td>\n",
       "    </tr>\n",
       "    <tr>\n",
       "      <th>53029</th>\n",
       "      <td>1.538687</td>\n",
       "      <td>1.096542</td>\n",
       "      <td>1.0</td>\n",
       "      <td>3.603181e+06</td>\n",
       "      <td>4.485331</td>\n",
       "      <td>0.999452</td>\n",
       "      <td>31.47254</td>\n",
       "      <td>0.809537</td>\n",
       "      <td>0.762205</td>\n",
       "      <td>0.748709</td>\n",
       "      <td>...</td>\n",
       "      <td>09-2019</td>\n",
       "      <td>09-2019</td>\n",
       "      <td>10-2019</td>\n",
       "      <td>12-2019</td>\n",
       "      <td>09-2019</td>\n",
       "      <td>09-2019</td>\n",
       "      <td>07-2019</td>\n",
       "      <td>09-2019</td>\n",
       "      <td>3cy</td>\n",
       "      <td>male</td>\n",
       "    </tr>\n",
       "  </tbody>\n",
       "</table>\n",
       "<p>53030 rows × 127 columns</p>\n",
       "</div>"
      ],
      "text/plain": [
       "        Field_3  Field_10  Field_13      Field_20  Field_21  Field_22  \\\n",
       "0      1.000000  1.000000       1.0  4.258600e+06  4.500000  1.000000   \n",
       "1      1.538687  1.096542       1.0  3.603181e+06  4.485331  0.999452   \n",
       "2      2.000000  1.000000       1.0  5.000000e+06  4.500000  1.000000   \n",
       "3      1.538687  1.096542       1.0  3.603181e+06  4.485331  0.999452   \n",
       "4      1.538687  1.096542       1.0  3.603181e+06  4.485331  0.999452   \n",
       "...         ...       ...       ...           ...       ...       ...   \n",
       "53025  1.000000  1.000000       1.0  1.490000e+06  4.500000  1.000000   \n",
       "53026  1.538687  1.096542       1.0  3.603181e+06  4.485331  0.999452   \n",
       "53027  2.000000  1.000000       1.0  4.015000e+06  4.500000  1.000000   \n",
       "53028  1.538687  1.096542       1.0  3.603181e+06  4.485331  0.999452   \n",
       "53029  1.538687  1.096542       1.0  3.603181e+06  4.485331  0.999452   \n",
       "\n",
       "       Field_23  Field_39  Field_41  Field_42  ...  E_startDate  E_endDate  \\\n",
       "0      16.00000  1.000000  1.000000  1.000000  ...      08-2019    08-2019   \n",
       "1      31.47254  0.809537  0.762205  0.748709  ...      08-2019    08-2019   \n",
       "2      10.00000  1.000000  1.000000  1.000000  ...      08-2019    09-2019   \n",
       "3      31.47254  0.809537  0.762205  0.748709  ...      08-2019    08-2019   \n",
       "4      31.47254  0.809537  0.762205  0.748709  ...      08-2019    08-2019   \n",
       "...         ...       ...       ...       ...  ...          ...        ...   \n",
       "53025   5.00000  1.000000  1.000000  1.000000  ...      12-2019    12-2019   \n",
       "53026  31.47254  0.809537  0.762205  0.748709  ...      08-2019    08-2019   \n",
       "53027   0.00000  1.000000  0.000000  0.000000  ...      08-2019    08-2019   \n",
       "53028  31.47254  0.809537  0.762205  0.748709  ...      08-2019    08-2019   \n",
       "53029  31.47254  0.809537  0.762205  0.748709  ...      09-2019    09-2019   \n",
       "\n",
       "       C_startDate  C_endDate  G_startDate  G_endDate  A_startDate  A_endDate  \\\n",
       "0          10-2019    12-2019      10-2019    10-2019      06-2019    08-2019   \n",
       "1          10-2019    12-2019      10-2019    10-2019      07-2019    07-2019   \n",
       "2          10-2019    12-2019      10-2019    10-2019      09-2019    11-2019   \n",
       "3          10-2019    12-2019      10-2019    10-2019      09-2019    11-2019   \n",
       "4          10-2019    12-2019      10-2019    10-2019      09-2019    11-2019   \n",
       "...            ...        ...          ...        ...          ...        ...   \n",
       "53025      12-2019    12-2019      10-2019    10-2019      06-2019    12-2019   \n",
       "53026      10-2019    12-2019      02-2020    02-2020      01-2020    03-2020   \n",
       "53027      10-2019    12-2019      10-2019    10-2019      09-2019    11-2019   \n",
       "53028      10-2019    12-2019      10-2019    10-2019      01-2020    01-2020   \n",
       "53029      10-2019    12-2019      09-2019    09-2019      07-2019    09-2019   \n",
       "\n",
       "          brief  Giới Tính  \n",
       "0           cb1       male  \n",
       "1             4       male  \n",
       "2             1     female  \n",
       "3             1       male  \n",
       "4             1       male  \n",
       "...         ...        ...  \n",
       "53025         1     female  \n",
       "53026  notfound       male  \n",
       "53027  notfound     female  \n",
       "53028  notfound       male  \n",
       "53029       3cy       male  \n",
       "\n",
       "[53030 rows x 127 columns]"
      ]
     },
     "execution_count": 37,
     "metadata": {},
     "output_type": "execute_result"
    }
   ],
   "source": [
    "all_data"
   ]
  },
  {
   "cell_type": "markdown",
   "metadata": {},
   "source": [
    "### OneHotEncoder"
   ]
  },
  {
   "cell_type": "code",
   "execution_count": 38,
   "metadata": {},
   "outputs": [
    {
     "data": {
      "text/plain": [
       "127"
      ]
     },
     "execution_count": 38,
     "metadata": {},
     "output_type": "execute_result"
    }
   ],
   "source": [
    "len(all_data.columns)"
   ]
  },
  {
   "cell_type": "code",
   "execution_count": 39,
   "metadata": {},
   "outputs": [],
   "source": [
    "numeric = all_data.select_dtypes(['float', 'int']).columns"
   ]
  },
  {
   "cell_type": "code",
   "execution_count": 40,
   "metadata": {},
   "outputs": [
    {
     "name": "stdout",
     "output_type": "stream",
     "text": [
      "Index(['Field_3', 'Field_10', 'Field_13', 'Field_20', 'Field_21', 'Field_22',\n",
      "       'Field_23', 'Field_39', 'Field_41', 'Field_42', 'Field_50', 'Field_51',\n",
      "       'Field_53', 'Field_58', 'Field_59', 'Field_60', 'Field_63', 'Field_64',\n",
      "       'Field_67', 'Field_69', 'Field_70', 'Field_71', 'Field_72', 'Field_73',\n",
      "       'Field_74', 'Field_75', 'Field_76', 'Field_77', 'topFriends', 'numOrg',\n",
      "       'F_numOrg', 'F_numQuery', 'E_numOrg', 'E_numQuery', 'C_numOrg',\n",
      "       'C_numQuery', 'G_numOrg', 'G_numQuery', 'A_numOrg', 'A_numQuery',\n",
      "       'summary_6m', 'summary_3m', 'summary_1m', 'summary_1w', 'partner0_A',\n",
      "       'partner0_C', 'partner0_D', 'partner0_E', 'partner0_F', 'partner0_G',\n",
      "       'partner0_H', 'partner1_A', 'partner1_C', 'partner1_G', 'partner1_H',\n",
      "       'partner2_A', 'partner2_C', 'partner2_D', 'partner2_E', 'partner2_F',\n",
      "       'partner2_H', 'partner3_A', 'partner3_C', 'partner3_D', 'partner3_E',\n",
      "       'partner5_A', 'partner5_D', 'partner5_E', 'partner5_F', 'partner5_G',\n",
      "       'num_of_phone', 'Field_78', 'Field_79', 'Field_80', 'Field_81'],\n",
      "      dtype='object')\n"
     ]
    }
   ],
   "source": [
    "print(numeric)"
   ]
  },
  {
   "cell_type": "code",
   "execution_count": 41,
   "metadata": {},
   "outputs": [
    {
     "data": {
      "text/plain": [
       "75"
      ]
     },
     "execution_count": 41,
     "metadata": {},
     "output_type": "execute_result"
    }
   ],
   "source": [
    "len(numeric)"
   ]
  },
  {
   "cell_type": "code",
   "execution_count": 42,
   "metadata": {},
   "outputs": [
    {
     "data": {
      "text/plain": [
       "dtype('O')"
      ]
     },
     "execution_count": 42,
     "metadata": {},
     "output_type": "execute_result"
    }
   ],
   "source": [
    "numeric.dtype"
   ]
  },
  {
   "cell_type": "code",
   "execution_count": 62,
   "metadata": {},
   "outputs": [],
   "source": [
    "numeric = pd.get_dummies(numeric)"
   ]
  },
  {
   "cell_type": "code",
   "execution_count": 64,
   "metadata": {},
   "outputs": [
    {
     "data": {
      "text/html": [
       "<div>\n",
       "<style scoped>\n",
       "    .dataframe tbody tr th:only-of-type {\n",
       "        vertical-align: middle;\n",
       "    }\n",
       "\n",
       "    .dataframe tbody tr th {\n",
       "        vertical-align: top;\n",
       "    }\n",
       "\n",
       "    .dataframe thead th {\n",
       "        text-align: right;\n",
       "    }\n",
       "</style>\n",
       "<table border=\"1\" class=\"dataframe\">\n",
       "  <thead>\n",
       "    <tr style=\"text-align: right;\">\n",
       "      <th></th>\n",
       "      <th>A_numOrg</th>\n",
       "      <th>A_numQuery</th>\n",
       "      <th>C_numOrg</th>\n",
       "      <th>C_numQuery</th>\n",
       "      <th>E_numOrg</th>\n",
       "      <th>E_numQuery</th>\n",
       "      <th>F_numOrg</th>\n",
       "      <th>F_numQuery</th>\n",
       "      <th>Field_10</th>\n",
       "      <th>Field_13</th>\n",
       "      <th>...</th>\n",
       "      <th>partner5_A</th>\n",
       "      <th>partner5_D</th>\n",
       "      <th>partner5_E</th>\n",
       "      <th>partner5_F</th>\n",
       "      <th>partner5_G</th>\n",
       "      <th>summary_1m</th>\n",
       "      <th>summary_1w</th>\n",
       "      <th>summary_3m</th>\n",
       "      <th>summary_6m</th>\n",
       "      <th>topFriends</th>\n",
       "    </tr>\n",
       "  </thead>\n",
       "  <tbody>\n",
       "    <tr>\n",
       "      <th>0</th>\n",
       "      <td>0</td>\n",
       "      <td>0</td>\n",
       "      <td>0</td>\n",
       "      <td>0</td>\n",
       "      <td>0</td>\n",
       "      <td>0</td>\n",
       "      <td>0</td>\n",
       "      <td>0</td>\n",
       "      <td>0</td>\n",
       "      <td>0</td>\n",
       "      <td>...</td>\n",
       "      <td>0</td>\n",
       "      <td>0</td>\n",
       "      <td>0</td>\n",
       "      <td>0</td>\n",
       "      <td>0</td>\n",
       "      <td>0</td>\n",
       "      <td>0</td>\n",
       "      <td>0</td>\n",
       "      <td>0</td>\n",
       "      <td>0</td>\n",
       "    </tr>\n",
       "    <tr>\n",
       "      <th>1</th>\n",
       "      <td>0</td>\n",
       "      <td>0</td>\n",
       "      <td>0</td>\n",
       "      <td>0</td>\n",
       "      <td>0</td>\n",
       "      <td>0</td>\n",
       "      <td>0</td>\n",
       "      <td>0</td>\n",
       "      <td>1</td>\n",
       "      <td>0</td>\n",
       "      <td>...</td>\n",
       "      <td>0</td>\n",
       "      <td>0</td>\n",
       "      <td>0</td>\n",
       "      <td>0</td>\n",
       "      <td>0</td>\n",
       "      <td>0</td>\n",
       "      <td>0</td>\n",
       "      <td>0</td>\n",
       "      <td>0</td>\n",
       "      <td>0</td>\n",
       "    </tr>\n",
       "    <tr>\n",
       "      <th>2</th>\n",
       "      <td>0</td>\n",
       "      <td>0</td>\n",
       "      <td>0</td>\n",
       "      <td>0</td>\n",
       "      <td>0</td>\n",
       "      <td>0</td>\n",
       "      <td>0</td>\n",
       "      <td>0</td>\n",
       "      <td>0</td>\n",
       "      <td>1</td>\n",
       "      <td>...</td>\n",
       "      <td>0</td>\n",
       "      <td>0</td>\n",
       "      <td>0</td>\n",
       "      <td>0</td>\n",
       "      <td>0</td>\n",
       "      <td>0</td>\n",
       "      <td>0</td>\n",
       "      <td>0</td>\n",
       "      <td>0</td>\n",
       "      <td>0</td>\n",
       "    </tr>\n",
       "    <tr>\n",
       "      <th>3</th>\n",
       "      <td>0</td>\n",
       "      <td>0</td>\n",
       "      <td>0</td>\n",
       "      <td>0</td>\n",
       "      <td>0</td>\n",
       "      <td>0</td>\n",
       "      <td>0</td>\n",
       "      <td>0</td>\n",
       "      <td>0</td>\n",
       "      <td>0</td>\n",
       "      <td>...</td>\n",
       "      <td>0</td>\n",
       "      <td>0</td>\n",
       "      <td>0</td>\n",
       "      <td>0</td>\n",
       "      <td>0</td>\n",
       "      <td>0</td>\n",
       "      <td>0</td>\n",
       "      <td>0</td>\n",
       "      <td>0</td>\n",
       "      <td>0</td>\n",
       "    </tr>\n",
       "    <tr>\n",
       "      <th>4</th>\n",
       "      <td>0</td>\n",
       "      <td>0</td>\n",
       "      <td>0</td>\n",
       "      <td>0</td>\n",
       "      <td>0</td>\n",
       "      <td>0</td>\n",
       "      <td>0</td>\n",
       "      <td>0</td>\n",
       "      <td>0</td>\n",
       "      <td>0</td>\n",
       "      <td>...</td>\n",
       "      <td>0</td>\n",
       "      <td>0</td>\n",
       "      <td>0</td>\n",
       "      <td>0</td>\n",
       "      <td>0</td>\n",
       "      <td>0</td>\n",
       "      <td>0</td>\n",
       "      <td>0</td>\n",
       "      <td>0</td>\n",
       "      <td>0</td>\n",
       "    </tr>\n",
       "  </tbody>\n",
       "</table>\n",
       "<p>5 rows × 75 columns</p>\n",
       "</div>"
      ],
      "text/plain": [
       "   A_numOrg  A_numQuery  C_numOrg  C_numQuery  E_numOrg  E_numQuery  F_numOrg  \\\n",
       "0         0           0         0           0         0           0         0   \n",
       "1         0           0         0           0         0           0         0   \n",
       "2         0           0         0           0         0           0         0   \n",
       "3         0           0         0           0         0           0         0   \n",
       "4         0           0         0           0         0           0         0   \n",
       "\n",
       "   F_numQuery  Field_10  Field_13  ...  partner5_A  partner5_D  partner5_E  \\\n",
       "0           0         0         0  ...           0           0           0   \n",
       "1           0         1         0  ...           0           0           0   \n",
       "2           0         0         1  ...           0           0           0   \n",
       "3           0         0         0  ...           0           0           0   \n",
       "4           0         0         0  ...           0           0           0   \n",
       "\n",
       "   partner5_F  partner5_G  summary_1m  summary_1w  summary_3m  summary_6m  \\\n",
       "0           0           0           0           0           0           0   \n",
       "1           0           0           0           0           0           0   \n",
       "2           0           0           0           0           0           0   \n",
       "3           0           0           0           0           0           0   \n",
       "4           0           0           0           0           0           0   \n",
       "\n",
       "   topFriends  \n",
       "0           0  \n",
       "1           0  \n",
       "2           0  \n",
       "3           0  \n",
       "4           0  \n",
       "\n",
       "[5 rows x 75 columns]"
      ]
     },
     "execution_count": 64,
     "metadata": {},
     "output_type": "execute_result"
    }
   ],
   "source": [
    "numeric.head(5)"
   ]
  },
  {
   "cell_type": "code",
   "execution_count": 43,
   "metadata": {},
   "outputs": [
    {
     "name": "stdout",
     "output_type": "stream",
     "text": [
      "Số cột categoric: 52\n"
     ]
    }
   ],
   "source": [
    "print('Số cột categoric:', int(127-75))"
   ]
  },
  {
   "cell_type": "code",
   "execution_count": 44,
   "metadata": {},
   "outputs": [],
   "source": [
    "categoric = all_data.select_dtypes(exclude=['float', 'int']).columns"
   ]
  },
  {
   "cell_type": "code",
   "execution_count": 45,
   "metadata": {},
   "outputs": [
    {
     "data": {
      "text/plain": [
       "52"
      ]
     },
     "execution_count": 45,
     "metadata": {},
     "output_type": "execute_result"
    }
   ],
   "source": [
    "len(categoric)"
   ]
  },
  {
   "cell_type": "markdown",
   "metadata": {},
   "source": [
    "Cách 1: sử dụng OneHotEncode bằng code và thư viện sklearn"
   ]
  },
  {
   "cell_type": "code",
   "execution_count": 46,
   "metadata": {},
   "outputs": [],
   "source": [
    "from numpy import array\n",
    "from numpy import argmax\n",
    "from sklearn.preprocessing import LabelEncoder\n",
    "from sklearn.preprocessing import OneHotEncoder"
   ]
  },
  {
   "cell_type": "code",
   "execution_count": 47,
   "metadata": {},
   "outputs": [
    {
     "name": "stdout",
     "output_type": "stream",
     "text": [
      "['friendCount' 'subscriberCount' 'currentLocationLocationId'\n",
      " 'homeTownLocationId' 'Field_1' 'Field_4' 'Field_6' 'Field_7' 'Field_8'\n",
      " 'Field_11' 'Field_12' 'Field_15' 'Field_18' 'Field_25' 'Field_32'\n",
      " 'Field_33' 'Field_35' 'diaChi' 'Field_36' 'Field_40' 'Field_43'\n",
      " 'Field_44' 'Field_45' 'Field_46' 'Field_48' 'Field_54' 'Field_55'\n",
      " 'Field_56' 'Field_61' 'Field_65' 'Field_66' 'Field_68' 'maCv'\n",
      " 'currentLocationCity' 'currentLocationCountry' 'currentLocationName'\n",
      " 'currentLocationState' 'homeTownCity' 'homeTownName' 'homeTownState'\n",
      " 'F_startDate' 'F_endDate' 'E_startDate' 'E_endDate' 'C_startDate'\n",
      " 'C_endDate' 'G_startDate' 'G_endDate' 'A_startDate' 'A_endDate' 'brief'\n",
      " 'Giới Tính']\n"
     ]
    }
   ],
   "source": [
    "values = array(all_data.select_dtypes(exclude=['float', 'int']).columns)\n",
    "print(values)"
   ]
  },
  {
   "cell_type": "code",
   "execution_count": 48,
   "metadata": {},
   "outputs": [
    {
     "name": "stdout",
     "output_type": "stream",
     "text": [
      "[45 51 41 47  8 18 28 33 34  9 10 11 12 13 14 15 16 44 17 19 20 21 22 23\n",
      " 24 25 26 27 29 30 31 32 50 39 40 42 43 46 48 49  7  6  5  4  3  2 36 35\n",
      "  1  0 38 37]\n"
     ]
    }
   ],
   "source": [
    "label_encoder = LabelEncoder()\n",
    "integer_encoded = label_encoder.fit_transform(values)\n",
    "print(integer_encoded)"
   ]
  },
  {
   "cell_type": "code",
   "execution_count": 49,
   "metadata": {},
   "outputs": [
    {
     "name": "stdout",
     "output_type": "stream",
     "text": [
      "[[0. 0. 0. ... 0. 0. 0.]\n",
      " [0. 0. 0. ... 0. 0. 1.]\n",
      " [0. 0. 0. ... 0. 0. 0.]\n",
      " ...\n",
      " [1. 0. 0. ... 0. 0. 0.]\n",
      " [0. 0. 0. ... 0. 0. 0.]\n",
      " [0. 0. 0. ... 0. 0. 0.]]\n"
     ]
    }
   ],
   "source": [
    "#%% binary encode(mã hóa nhị phân)\n",
    "onehot_encoder = OneHotEncoder(sparse=False)\n",
    "integer_encoded = integer_encoded.reshape(len(integer_encoded), 1)\n",
    "onehot_encoded = onehot_encoder.fit_transform(integer_encoded)\n",
    "print(onehot_encoded)"
   ]
  },
  {
   "cell_type": "code",
   "execution_count": 50,
   "metadata": {},
   "outputs": [
    {
     "data": {
      "text/plain": [
       "52"
      ]
     },
     "execution_count": 50,
     "metadata": {},
     "output_type": "execute_result"
    }
   ],
   "source": [
    "len(onehot_encoded)"
   ]
  },
  {
   "cell_type": "code",
   "execution_count": 51,
   "metadata": {},
   "outputs": [
    {
     "data": {
      "text/plain": [
       "dtype('float64')"
      ]
     },
     "execution_count": 51,
     "metadata": {},
     "output_type": "execute_result"
    }
   ],
   "source": [
    "onehot_encoded.dtype"
   ]
  },
  {
   "cell_type": "markdown",
   "metadata": {},
   "source": [
    "Cách 2: sử dụng thư viện get_dummies() để mã hóa theo kiểu OneHotEncoded"
   ]
  },
  {
   "cell_type": "code",
   "execution_count": 54,
   "metadata": {},
   "outputs": [],
   "source": [
    "categoric = pd.get_dummies(categoric)"
   ]
  },
  {
   "cell_type": "code",
   "execution_count": 61,
   "metadata": {
    "scrolled": false
   },
   "outputs": [
    {
     "data": {
      "text/html": [
       "<div>\n",
       "<style scoped>\n",
       "    .dataframe tbody tr th:only-of-type {\n",
       "        vertical-align: middle;\n",
       "    }\n",
       "\n",
       "    .dataframe tbody tr th {\n",
       "        vertical-align: top;\n",
       "    }\n",
       "\n",
       "    .dataframe thead th {\n",
       "        text-align: right;\n",
       "    }\n",
       "</style>\n",
       "<table border=\"1\" class=\"dataframe\">\n",
       "  <thead>\n",
       "    <tr style=\"text-align: right;\">\n",
       "      <th></th>\n",
       "      <th>A_endDate</th>\n",
       "      <th>A_startDate</th>\n",
       "      <th>C_endDate</th>\n",
       "      <th>C_startDate</th>\n",
       "      <th>E_endDate</th>\n",
       "      <th>E_startDate</th>\n",
       "      <th>F_endDate</th>\n",
       "      <th>F_startDate</th>\n",
       "      <th>Field_1</th>\n",
       "      <th>Field_11</th>\n",
       "      <th>...</th>\n",
       "      <th>currentLocationName</th>\n",
       "      <th>currentLocationState</th>\n",
       "      <th>diaChi</th>\n",
       "      <th>friendCount</th>\n",
       "      <th>homeTownCity</th>\n",
       "      <th>homeTownLocationId</th>\n",
       "      <th>homeTownName</th>\n",
       "      <th>homeTownState</th>\n",
       "      <th>maCv</th>\n",
       "      <th>subscriberCount</th>\n",
       "    </tr>\n",
       "  </thead>\n",
       "  <tbody>\n",
       "    <tr>\n",
       "      <th>0</th>\n",
       "      <td>0</td>\n",
       "      <td>0</td>\n",
       "      <td>0</td>\n",
       "      <td>0</td>\n",
       "      <td>0</td>\n",
       "      <td>0</td>\n",
       "      <td>0</td>\n",
       "      <td>0</td>\n",
       "      <td>0</td>\n",
       "      <td>0</td>\n",
       "      <td>...</td>\n",
       "      <td>0</td>\n",
       "      <td>0</td>\n",
       "      <td>0</td>\n",
       "      <td>1</td>\n",
       "      <td>0</td>\n",
       "      <td>0</td>\n",
       "      <td>0</td>\n",
       "      <td>0</td>\n",
       "      <td>0</td>\n",
       "      <td>0</td>\n",
       "    </tr>\n",
       "    <tr>\n",
       "      <th>1</th>\n",
       "      <td>0</td>\n",
       "      <td>0</td>\n",
       "      <td>0</td>\n",
       "      <td>0</td>\n",
       "      <td>0</td>\n",
       "      <td>0</td>\n",
       "      <td>0</td>\n",
       "      <td>0</td>\n",
       "      <td>0</td>\n",
       "      <td>0</td>\n",
       "      <td>...</td>\n",
       "      <td>0</td>\n",
       "      <td>0</td>\n",
       "      <td>0</td>\n",
       "      <td>0</td>\n",
       "      <td>0</td>\n",
       "      <td>0</td>\n",
       "      <td>0</td>\n",
       "      <td>0</td>\n",
       "      <td>0</td>\n",
       "      <td>1</td>\n",
       "    </tr>\n",
       "    <tr>\n",
       "      <th>2</th>\n",
       "      <td>0</td>\n",
       "      <td>0</td>\n",
       "      <td>0</td>\n",
       "      <td>0</td>\n",
       "      <td>0</td>\n",
       "      <td>0</td>\n",
       "      <td>0</td>\n",
       "      <td>0</td>\n",
       "      <td>0</td>\n",
       "      <td>0</td>\n",
       "      <td>...</td>\n",
       "      <td>0</td>\n",
       "      <td>0</td>\n",
       "      <td>0</td>\n",
       "      <td>0</td>\n",
       "      <td>0</td>\n",
       "      <td>0</td>\n",
       "      <td>0</td>\n",
       "      <td>0</td>\n",
       "      <td>0</td>\n",
       "      <td>0</td>\n",
       "    </tr>\n",
       "    <tr>\n",
       "      <th>3</th>\n",
       "      <td>0</td>\n",
       "      <td>0</td>\n",
       "      <td>0</td>\n",
       "      <td>0</td>\n",
       "      <td>0</td>\n",
       "      <td>0</td>\n",
       "      <td>0</td>\n",
       "      <td>0</td>\n",
       "      <td>0</td>\n",
       "      <td>0</td>\n",
       "      <td>...</td>\n",
       "      <td>0</td>\n",
       "      <td>0</td>\n",
       "      <td>0</td>\n",
       "      <td>0</td>\n",
       "      <td>0</td>\n",
       "      <td>1</td>\n",
       "      <td>0</td>\n",
       "      <td>0</td>\n",
       "      <td>0</td>\n",
       "      <td>0</td>\n",
       "    </tr>\n",
       "    <tr>\n",
       "      <th>4</th>\n",
       "      <td>0</td>\n",
       "      <td>0</td>\n",
       "      <td>0</td>\n",
       "      <td>0</td>\n",
       "      <td>0</td>\n",
       "      <td>0</td>\n",
       "      <td>0</td>\n",
       "      <td>0</td>\n",
       "      <td>1</td>\n",
       "      <td>0</td>\n",
       "      <td>...</td>\n",
       "      <td>0</td>\n",
       "      <td>0</td>\n",
       "      <td>0</td>\n",
       "      <td>0</td>\n",
       "      <td>0</td>\n",
       "      <td>0</td>\n",
       "      <td>0</td>\n",
       "      <td>0</td>\n",
       "      <td>0</td>\n",
       "      <td>0</td>\n",
       "    </tr>\n",
       "  </tbody>\n",
       "</table>\n",
       "<p>5 rows × 52 columns</p>\n",
       "</div>"
      ],
      "text/plain": [
       "   A_endDate  A_startDate  C_endDate  C_startDate  E_endDate  E_startDate  \\\n",
       "0          0            0          0            0          0            0   \n",
       "1          0            0          0            0          0            0   \n",
       "2          0            0          0            0          0            0   \n",
       "3          0            0          0            0          0            0   \n",
       "4          0            0          0            0          0            0   \n",
       "\n",
       "   F_endDate  F_startDate  Field_1  Field_11  ...  currentLocationName  \\\n",
       "0          0            0        0         0  ...                    0   \n",
       "1          0            0        0         0  ...                    0   \n",
       "2          0            0        0         0  ...                    0   \n",
       "3          0            0        0         0  ...                    0   \n",
       "4          0            0        1         0  ...                    0   \n",
       "\n",
       "   currentLocationState  diaChi  friendCount  homeTownCity  \\\n",
       "0                     0       0            1             0   \n",
       "1                     0       0            0             0   \n",
       "2                     0       0            0             0   \n",
       "3                     0       0            0             0   \n",
       "4                     0       0            0             0   \n",
       "\n",
       "   homeTownLocationId  homeTownName  homeTownState  maCv  subscriberCount  \n",
       "0                   0             0              0     0                0  \n",
       "1                   0             0              0     0                1  \n",
       "2                   0             0              0     0                0  \n",
       "3                   1             0              0     0                0  \n",
       "4                   0             0              0     0                0  \n",
       "\n",
       "[5 rows x 52 columns]"
      ]
     },
     "execution_count": 61,
     "metadata": {},
     "output_type": "execute_result"
    }
   ],
   "source": [
    "categoric.head(5)"
   ]
  },
  {
   "cell_type": "code",
   "execution_count": 57,
   "metadata": {
    "scrolled": true
   },
   "outputs": [
    {
     "name": "stdout",
     "output_type": "stream",
     "text": [
      "['A_endDate' 'A_startDate' 'C_endDate' 'C_startDate' 'E_endDate'\n",
      " 'E_startDate' 'F_endDate' 'F_startDate' 'Field_1' 'Field_11' 'Field_12'\n",
      " 'Field_15' 'Field_18' 'Field_25' 'Field_32' 'Field_33' 'Field_35'\n",
      " 'Field_36' 'Field_4' 'Field_40' 'Field_43' 'Field_44' 'Field_45'\n",
      " 'Field_46' 'Field_48' 'Field_54' 'Field_55' 'Field_56' 'Field_6'\n",
      " 'Field_61' 'Field_65' 'Field_66' 'Field_68' 'Field_7' 'Field_8'\n",
      " 'G_endDate' 'G_startDate' 'Giới Tính' 'brief' 'currentLocationCity'\n",
      " 'currentLocationCountry' 'currentLocationLocationId'\n",
      " 'currentLocationName' 'currentLocationState' 'diaChi' 'friendCount'\n",
      " 'homeTownCity' 'homeTownLocationId' 'homeTownName' 'homeTownState' 'maCv'\n",
      " 'subscriberCount']\n"
     ]
    }
   ],
   "source": [
    "print(categoric.columns.values)"
   ]
  },
  {
   "cell_type": "code",
   "execution_count": 74,
   "metadata": {},
   "outputs": [],
   "source": [
    "all_data = pd.concat([categoric, numeric, label], axis=1)"
   ]
  },
  {
   "cell_type": "code",
   "execution_count": 80,
   "metadata": {},
   "outputs": [
    {
     "name": "stdout",
     "output_type": "stream",
     "text": [
      "Có tất cả 128 cột.\n",
      "Có tất cả 127 cột bị thiếu data\n"
     ]
    }
   ],
   "source": [
    "all_data_mis = missing_values(all_data)"
   ]
  },
  {
   "cell_type": "code",
   "execution_count": 83,
   "metadata": {},
   "outputs": [
    {
     "data": {
      "text/plain": [
       "float64    127\n",
       "int64        1\n",
       "dtype: int64"
      ]
     },
     "execution_count": 83,
     "metadata": {},
     "output_type": "execute_result"
    }
   ],
   "source": [
    "all_data.dtypes.value_counts()"
   ]
  },
  {
   "cell_type": "code",
   "execution_count": 84,
   "metadata": {},
   "outputs": [
    {
     "data": {
      "text/plain": [
       "dtype('int64')"
      ]
     },
     "execution_count": 84,
     "metadata": {},
     "output_type": "execute_result"
    }
   ],
   "source": [
    "all_data['label'].dtypes"
   ]
  },
  {
   "cell_type": "code",
   "execution_count": 85,
   "metadata": {},
   "outputs": [],
   "source": [
    "def fill_mean_train(train_numeric):\n",
    "    for col in train_numeric.columns:\n",
    "        mean = train_numeric[col].mean()\n",
    "        train_numeric[col] = train_numeric[col].fillna(mean)\n",
    "    return train_numeric"
   ]
  },
  {
   "cell_type": "code",
   "execution_count": 86,
   "metadata": {},
   "outputs": [],
   "source": [
    "all_data = fill_mean_train(all_data)"
   ]
  },
  {
   "cell_type": "code",
   "execution_count": 87,
   "metadata": {},
   "outputs": [
    {
     "name": "stdout",
     "output_type": "stream",
     "text": [
      "Có tất cả 128 cột.\n",
      "Có tất cả 0 cột bị thiếu data\n"
     ]
    }
   ],
   "source": [
    "all_data_mis = missing_values(all_data)"
   ]
  },
  {
   "cell_type": "markdown",
   "metadata": {},
   "source": [
    "# Modelling"
   ]
  },
  {
   "cell_type": "code",
   "execution_count": 89,
   "metadata": {},
   "outputs": [],
   "source": [
    "from sklearn.model_selection import train_test_split\n",
    "\n",
    "X = all_data.values\n",
    "Y = all_data['label']\n",
    "X_train, X_test, Y_train, Y_test = train_test_split(X, Y, test_size = 0.3, random_state = 200)"
   ]
  },
  {
   "cell_type": "code",
   "execution_count": 90,
   "metadata": {},
   "outputs": [
    {
     "data": {
      "text/plain": [
       "LogisticRegression(C=0.001)"
      ]
     },
     "execution_count": 90,
     "metadata": {},
     "output_type": "execute_result"
    }
   ],
   "source": [
    "from sklearn.linear_model import LogisticRegression\n",
    "\n",
    "log_reg = LogisticRegression(C = 0.001)\n",
    "log_reg.fit(X_train, Y_train)"
   ]
  }
 ],
 "metadata": {
  "kernelspec": {
   "display_name": "Python 3",
   "language": "python",
   "name": "python3"
  },
  "language_info": {
   "codemirror_mode": {
    "name": "ipython",
    "version": 3
   },
   "file_extension": ".py",
   "mimetype": "text/x-python",
   "name": "python",
   "nbconvert_exporter": "python",
   "pygments_lexer": "ipython3",
   "version": "3.7.6"
  }
 },
 "nbformat": 4,
 "nbformat_minor": 4
}
